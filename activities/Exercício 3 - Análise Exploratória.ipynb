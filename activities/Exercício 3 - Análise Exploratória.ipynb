{
 "cells": [
  {
   "cell_type": "markdown",
   "id": "902ec17b",
   "metadata": {},
   "source": [
    "Analise o conjunto de dados `titanic`. Estes dados contêm informações sobre os passageiros do Titanic, incluindo o valor que pagaram pela passagem e se sobreviveram ou não (nota: este é um subconjunto dos dados completos disponíveis). Para praticar as habilidades aprendidas nesta aula, vamos investigar se existe uma associação entre a tarifa que um passageiro pagou ( `Fare`) e se ele sobreviveu ou não (`Survived`, que é igual a `0` se o passageiro morreu e `1` se sobreviveu):\n",
    "\n",
    "- Calcule  a diferença na tarifa **média** paga pelos que sobreviveram e pelos que morreram. Qual grupo pagou uma tarifa média mais alta?\n",
    "- Calculea diferença na tarifa **mediana** entre aqueles que sobreviveram e aqueles que morreram.\n",
    "- Crie gráficos boxplot relacionando as variáveis de tarifas e sobrevivência. Agora que você pode ver a distribuição dos dados, as diferenças médias/medianas parecem relativamente pequenas ou grandes?\n",
    "- Crie histogramas sobrepostos de tarifas por sobrevivência. Isso fornece alguma informação adicional?"
   ]
  },
  {
   "cell_type": "code",
   "execution_count": null,
   "id": "7caa0c2a",
   "metadata": {},
   "outputs": [],
   "source": []
  }
 ],
 "metadata": {
  "kernelspec": {
   "display_name": "Python 3 (ipykernel)",
   "language": "python",
   "name": "python3"
  },
  "language_info": {
   "codemirror_mode": {
    "name": "ipython",
    "version": 3
   },
   "file_extension": ".py",
   "mimetype": "text/x-python",
   "name": "python",
   "nbconvert_exporter": "python",
   "pygments_lexer": "ipython3",
   "version": "3.11.5"
  }
 },
 "nbformat": 4,
 "nbformat_minor": 5
}
