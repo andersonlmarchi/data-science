{
 "cells": [
  {
   "cell_type": "code",
   "execution_count": null,
   "id": "b45de469",
   "metadata": {},
   "outputs": [],
   "source": [
    "# Importe as blibliotecas pandas, matplotlib e seaborn\n",
    "\n",
    "\n",
    "# Importe o dataset alunos para um Pandas Dataframe\n"
   ]
  },
  {
   "cell_type": "markdown",
   "id": "f5f6466f",
   "metadata": {},
   "source": [
    "O dataframe fornecido (`alunos`) inclui as seguintes variáveis/recursos:\n",
    "\n",
    "- `address`: localização da residência do aluno ( 'U'para urbano e 'R'para rural)\n",
    "- `absences`: o número de vezes que o aluno faltou durante o ano letivo\n",
    "- `Mjob`: profissão da mãe do aluno\n",
    "- `Fjob`: profissão do pai do aluno\n",
    "- `math_grade`: nota final do aluno em matemática, variando de 0 a 20\n",
    "\n",
    "Use o método `.head()` pandas para inspecionar as primeiras linhas de dados."
   ]
  },
  {
   "cell_type": "markdown",
   "id": "8e394cb6",
   "metadata": {},
   "source": [
    "1. Use o método `.describe()` para imprimir estatísticas resumidas para todos os cinco recursos do conjunto de dados. Inspecione a saída. Mais estudantes vivem em locais urbanos ou rurais?\n"
   ]
  },
  {
   "cell_type": "code",
   "execution_count": null,
   "id": "6e940c86",
   "metadata": {},
   "outputs": [],
   "source": []
  },
  {
   "cell_type": "markdown",
   "id": "2071e2a5",
   "metadata": {},
   "source": [
    "2. Vamos começar tentando resumir a coluna `math_grade`. Calcule e imprima a média da `math_grade`.\n"
   ]
  },
  {
   "cell_type": "code",
   "execution_count": null,
   "id": "d814904b",
   "metadata": {},
   "outputs": [],
   "source": []
  },
  {
   "cell_type": "markdown",
   "id": "42116dee",
   "metadata": {},
   "source": [
    "3. A seguir, calcule e imprima a mediana da variável `math_grade`. Compare esse valor com a média. É menor? maior?\n"
   ]
  },
  {
   "cell_type": "code",
   "execution_count": null,
   "id": "9a4f5b04",
   "metadata": {},
   "outputs": [],
   "source": []
  },
  {
   "cell_type": "markdown",
   "id": "0c9af489",
   "metadata": {},
   "source": [
    "4. Por fim, calcule e imprima a moda da coluna `math_grade`. Qual é a nota mais comum obtida pelos alunos neste conjunto de dados? Quão diferente é esse número da média e da mediana?\n"
   ]
  },
  {
   "cell_type": "code",
   "execution_count": null,
   "id": "1cfec910",
   "metadata": {},
   "outputs": [],
   "source": []
  },
  {
   "cell_type": "markdown",
   "id": "4993e129",
   "metadata": {},
   "source": [
    "5. A seguir, vamos resumir a distribuição das notas dos alunos. Calcule e imprima a amplitude da coluna `math_grade`. "
   ]
  },
  {
   "cell_type": "code",
   "execution_count": null,
   "id": "8ca44968",
   "metadata": {},
   "outputs": [],
   "source": []
  },
  {
   "cell_type": "markdown",
   "id": "95ab0b1b",
   "metadata": {},
   "source": [
    "6.  Calcule e imprima o desvio padrão da coluna `math_grade`. Cerca de dois terços dos valores estão dentro de um desvio padrão da média. O que esse número diz sobre a variação das notas em matemática?"
   ]
  },
  {
   "cell_type": "code",
   "execution_count": null,
   "id": "3822e676",
   "metadata": {},
   "outputs": [],
   "source": []
  },
  {
   "cell_type": "markdown",
   "id": "b1c1fa9c",
   "metadata": {},
   "source": [
    "### Visualize a distribuição das notas dos alunos"
   ]
  },
  {
   "cell_type": "markdown",
   "id": "9ad8df3c",
   "metadata": {},
   "source": [
    "7. Agora que resumimos as notas dos alunos usando estatísticas de tendência central e dispersão, vamos visualizar a distribuição usando um histograma. Use a função `histplot()` da biblioteca seaborn para criar um histograma da coluna `math_grade`."
   ]
  },
  {
   "cell_type": "code",
   "execution_count": null,
   "id": "4948c7f4",
   "metadata": {},
   "outputs": [],
   "source": []
  },
  {
   "cell_type": "markdown",
   "id": "513f0977",
   "metadata": {},
   "source": [
    "8. Outra forma de visualizar a distribuição de uma variável quantitativa é por meio de um gráfico box plot. Use a função `boxplot()` para criar um boxplot da coluna `math_grade`."
   ]
  },
  {
   "cell_type": "markdown",
   "id": "f5987e2e",
   "metadata": {},
   "source": [
    "### Resuma o trabalho das mães"
   ]
  },
  {
   "cell_type": "markdown",
   "id": "78a5cf9f",
   "metadata": {},
   "source": [
    "9. A coluna `Mjob` do conjunto de dados contém informações sobre o que as mães dos alunos fazem como profissão. Resuma a coluna `Mjob` imprimindo o número de alunos que têm mães em cada tipo de trabalho.\n",
    "\n",
    "   Qual valor de `Mjob` é mais comum?"
   ]
  },
  {
   "cell_type": "code",
   "execution_count": null,
   "id": "9aaffd28",
   "metadata": {},
   "outputs": [],
   "source": []
  },
  {
   "cell_type": "markdown",
   "id": "54f27f19",
   "metadata": {},
   "source": [
    "10. Agora, calcule e imprima a **proporção** de alunos que têm mães em cada tipo de trabalho. Qual a proporção de estudantes que têm mães que trabalham na área da saúde?"
   ]
  },
  {
   "cell_type": "code",
   "execution_count": null,
   "id": "545fdf3b",
   "metadata": {},
   "outputs": [],
   "source": []
  },
  {
   "cell_type": "markdown",
   "id": "f9af479c",
   "metadata": {},
   "source": [
    "### Visualize a distribuição dos empregos das mães"
   ]
  },
  {
   "cell_type": "markdown",
   "id": "fb8c6224",
   "metadata": {},
   "source": [
    "11. Agora que usamos estatísticas resumidas para entender as frequências relativas dos empregos de diferentes mães, vamos visualizar as mesmas informações em um gráfico de barras. Use a função `countplot()` da biblioteca seaborn para criar um gráfico de barras da variável `Mjob`."
   ]
  },
  {
   "cell_type": "code",
   "execution_count": null,
   "id": "1c4df739",
   "metadata": {},
   "outputs": [],
   "source": []
  },
  {
   "cell_type": "markdown",
   "id": "1de0f261",
   "metadata": {},
   "source": [
    "12. Também podemos visualizar as mesmas informações usando um gráfico de pizza. Crie um gráfico de pizza da coluna `Mjob`."
   ]
  },
  {
   "cell_type": "code",
   "execution_count": null,
   "id": "7693eeb8",
   "metadata": {},
   "outputs": [],
   "source": []
  }
 ],
 "metadata": {
  "kernelspec": {
   "display_name": "Python 3 (ipykernel)",
   "language": "python",
   "name": "python3"
  },
  "language_info": {
   "codemirror_mode": {
    "name": "ipython",
    "version": 3
   },
   "file_extension": ".py",
   "mimetype": "text/x-python",
   "name": "python",
   "nbconvert_exporter": "python",
   "pygments_lexer": "ipython3",
   "version": "3.11.5"
  }
 },
 "nbformat": 4,
 "nbformat_minor": 5
}
