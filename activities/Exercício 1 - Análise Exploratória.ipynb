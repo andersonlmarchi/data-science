{
 "cells": [
  {
   "cell_type": "code",
   "execution_count": null,
   "id": "b45de469",
   "metadata": {},
   "outputs": [],
   "source": [
    "# Import pandas\n",
    "\n",
    "\n",
    "# Importe o dataset autos para um Pandas Dataframe\n"
   ]
  },
  {
   "cell_type": "code",
   "execution_count": null,
   "id": "57dc4f24",
   "metadata": {},
   "outputs": [],
   "source": [
    "#1 Retorne as primeiras 10 linhas do dataframe.\n"
   ]
  },
  {
   "cell_type": "code",
   "execution_count": null,
   "id": "19e49e7b",
   "metadata": {},
   "outputs": [],
   "source": [
    "#2 Retorne os tipos de dados do dataframe com o comando .dtypes\n"
   ]
  },
  {
   "cell_type": "code",
   "execution_count": null,
   "id": "a21ad17a",
   "metadata": {},
   "outputs": [],
   "source": [
    "#3 Altere a price categoria de int para float com o método .astype() e verifique novamente os tipos de dados com .dtypes.\n"
   ]
  },
  {
   "cell_type": "code",
   "execution_count": null,
   "id": "b0954c86",
   "metadata": {},
   "outputs": [],
   "source": [
    "#4 Converta a variável engine_size para o tipo de dados category com uma ordem de [‘small’, ‘medium’, ‘large’] e verifique a ordem com o método .unique().\n"
   ]
  },
  {
   "cell_type": "code",
   "execution_count": null,
   "id": "c7fab029",
   "metadata": {},
   "outputs": [],
   "source": [
    "#5 Cria uma codificação One_Hot para a variável body-style. Em seguida, verifique o dataframe com .head()\n"
   ]
  },
  {
   "cell_type": "code",
   "execution_count": null,
   "id": "48e67aa3",
   "metadata": {},
   "outputs": [],
   "source": [
    "#6 Crie uma nova variável chamada engine_codes que contém os códigos numéricos associados a cada categoria na variável engine_size com o comando .cat.code. Verifique os novos valores com o método .head().\n",
    "auto['engine_codes'] = auto['_____'].cat.codes\n",
    "print(auto.head())"
   ]
  }
 ],
 "metadata": {
  "kernelspec": {
   "display_name": "Python 3 (ipykernel)",
   "language": "python",
   "name": "python3"
  },
  "language_info": {
   "codemirror_mode": {
    "name": "ipython",
    "version": 3
   },
   "file_extension": ".py",
   "mimetype": "text/x-python",
   "name": "python",
   "nbconvert_exporter": "python",
   "pygments_lexer": "ipython3",
   "version": "3.11.5"
  }
 },
 "nbformat": 4,
 "nbformat_minor": 5
}
