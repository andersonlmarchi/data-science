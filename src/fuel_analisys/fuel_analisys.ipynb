{
 "cells": [
  {
   "cell_type": "markdown",
   "metadata": {},
   "source": [
    "# Aplicação de Estatística Descritiva em Análise de Dados"
   ]
  },
  {
   "cell_type": "markdown",
   "metadata": {},
   "source": [
    "Para analisar o conjunto de dados serão necessárias algumas técnicas de estatística descritiva. A estatística descritiva é a etapa inicial da análise estatística, que tem como objetivo descrever e sumarizar os dados.\n",
    "\n",
    "Neste notebook, vamos explorar um conjunto de dados de preços de combustíveis em 3 cidades fictícias. Nele teremos as informações de preço de gasolina, etanol e diesel em 5 postos de gasolina de cada cidade num total de 15 postos. "
   ]
  },
  {
   "cell_type": "code",
   "execution_count": null,
   "metadata": {},
   "outputs": [],
   "source": [
    "# Importar as bibliotecas necessárias\n",
    "import matplotlib.pyplot as plt\n",
    "import seaborn as sns\n",
    "import pandas as pd\n",
    "import numpy as np\n",
    "\n",
    "# Carregar o arquivo CSV\n",
    "df = pd.read_csv('files/COMBUSTIVEIS.csv')\n",
    "\n",
    "# Visualizar os primeiros registros do dataframe\n",
    "print(df.head())"
   ]
  },
  {
   "cell_type": "raw",
   "metadata": {},
   "source": [
    "  CIDADE COMBUSTIVEL  POSTO  PRECO\n",
    "0      A    gasolina      1   7.50\n",
    "1      A    gasolina      2   6.90\n",
    "2      A    gasolina      3   7.85\n",
    "3      A    gasolina      4   6.40\n",
    "4      A    gasolina      5   7.20"
   ]
  },
  {
   "cell_type": "code",
   "execution_count": null,
   "metadata": {},
   "outputs": [],
   "source": [
    "# Calcular estatísticas descritivas para cada cidade e tipo de combustível\n",
    "statistics = df.groupby(['CIDADE', 'COMBUSTIVEL']).agg(\n",
    "    media_preco=('PRECO', 'mean'),\n",
    "    mediana_preco=('PRECO', 'median'),\n",
    "    desvio_padrao=('PRECO', 'std'),\n",
    "    variancia=('PRECO', 'var')\n",
    ").reset_index()\n",
    "\n",
    "print(statistics)"
   ]
  },
  {
   "cell_type": "raw",
   "metadata": {
    "vscode": {
     "languageId": "raw"
    }
   },
   "source": [
    "  CIDADE COMBUSTIVEL  media_preco  mediana_preco  desvio_padrao  variancia\n",
    "0      A      diesel        6.810           6.90       0.318983    0.10175\n",
    "1      A      etanol        4.360           4.25       0.499249    0.24925\n",
    "2      A    gasolina        7.170           7.20       0.556327    0.30950\n",
    "3      B      diesel        6.306           6.55       1.044811    1.09163\n",
    "4      B      etanol        4.016           4.05       0.047749    0.00228\n",
    "5      B    gasolina        7.430           7.05       0.926418    0.85825\n",
    "6      C      diesel        6.668           6.10       0.852420    0.72662\n",
    "7      C      etanol        4.032           3.99       0.071554    0.00512\n",
    "8      C    gasolina        7.106           7.15       0.184065    0.03388"
   ]
  },
  {
   "cell_type": "markdown",
   "metadata": {},
   "source": [
    "#### Análise dos resultados\n",
    "\n",
    "1 - A cidade A apresenta uma variabilidade moderada nos preços, com o etanol apresentando a maior variação (desvio padrão de 0.499249).\n",
    "\n",
    "2 - A cidade B mostra a maior variabilidade nos preços de diesel e gasolina, com desvios padrão de 1.044811 e 0.926418, respectivamente, sugerindo uma maior competitividade entre os postos.\n",
    "\n",
    "3 - A cidade C tem uma baixa variabilidade nos preços de etanol e gasolina, mas uma variabilidade maior para o diesel.\n",
    "\n",
    "4 - A cidade B parece ter a maior autonomia e competitividade entre os postos de combustível, dado os altos desvios padrão para diesel e gasolina.\n",
    "\n",
    "5 - As cidades A e C mostram mais uniformidade nos preços, especialmente para etanol e gasolina na cidade C.\n",
    "\n",
    "6 - O combustível com maior discrepância de preço é o diesel na cidade B, com um desvio padrão de 1.044811 e uma variância de 1.09163.\n",
    "\n",
    "##### Conformidade/Variabilidade: \n",
    "\n",
    "A cidade B mostra maior variabilidade nos preços, indicando uma política de autonomia e competitividade entre os postos. As cidades A e C apresentam mais uniformidade, especialmente para etanol e gasolina. \n"
   ]
  },
  {
   "cell_type": "markdown",
   "metadata": {},
   "source": [
    "### Geração de gráficos de boxplot para visualização dos resultados"
   ]
  },
  {
   "cell_type": "code",
   "execution_count": null,
   "metadata": {},
   "outputs": [],
   "source": [
    "# Configurar o estilo do seaborn\n",
    "sns.set_theme(style=\"whitegrid\")\n",
    "\n",
    "# Criar visualizações para cada tipo de combustível comparando entre as cidades\n",
    "def plot_fuel_prices_by_fuel(df):\n",
    "    unique_fuels = df['COMBUSTIVEL'].unique()\n",
    "    fig_paths = []\n",
    "    \n",
    "    for fuel in unique_fuels:\n",
    "        fuel_data = df[df['COMBUSTIVEL'] == fuel]\n",
    "        plt.figure(figsize=(12, 6))\n",
    "        palettes = sns.color_palette(\"husl\", len(df['CIDADE'].unique()))\n",
    "        sns.boxplot(x='CIDADE', y='PRECO', hue='CIDADE', data=fuel_data, palette=palettes, legend=False)\n",
    "        plt.title(f'Preços do {fuel.capitalize()} nas Cidades')\n",
    "        plt.xlabel('Cidade')\n",
    "        plt.ylabel('Preço (R$)')\n",
    "        \n",
    "        # Definir a escala do eixo y a cada 20 centavos, específico para cada combustível\n",
    "        min_price = fuel_data['PRECO'].min()\n",
    "        max_price = fuel_data['PRECO'].max()\n",
    "        plt.yticks([round(x, 2) for x in np.arange(min_price, max_price + 0.2, 0.2)])\n",
    "        \n",
    "        # Salvar a figura\n",
    "        fig_path = f'precos_{fuel.lower()}_cidades.png'\n",
    "        plt.savefig(fig_path)\n",
    "        plt.close()\n",
    "        fig_paths.append(fig_path)\n",
    "    \n",
    "    return fig_paths\n",
    "\n",
    "# Plotar e salvar as visualizações\n",
    "fig_paths = plot_fuel_prices_by_fuel(df)\n",
    "for path in fig_paths:\n",
    "    print(f'Figura salva em: {path}')"
   ]
  },
  {
   "cell_type": "markdown",
   "metadata": {},
   "source": [
    "###### Devido a um problema com a instalação do jupyter notebook, não foi possível mostrar os gráficos de boxplot para mostrar aqui, portanto é necessário rodar o código para gerar os gráficos em formato de imagem e acessar os mesmos no diretório de trabalho."
   ]
  }
 ],
 "metadata": {
  "language_info": {
   "name": "python"
  }
 },
 "nbformat": 4,
 "nbformat_minor": 2
}
