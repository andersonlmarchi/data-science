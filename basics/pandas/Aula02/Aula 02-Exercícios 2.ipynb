{
 "cells": [
  {
   "cell_type": "code",
   "execution_count": null,
   "id": "1fad3637",
   "metadata": {},
   "outputs": [],
   "source": [
    "#1 - Existem duas lojas de hardware na cidade: Loja A e Loja B. O estoque da Loja A está no DataFrame estoqueA \n",
    "#e o estoque da Loja B está no DataFrame estoqueB. Eles decidiram se fundir em uma grande Super Store!\n",
    "#Combine os estoques da Loja A e da Loja B. Salve os resultados na variável estoqueAeB."
   ]
  },
  {
   "cell_type": "code",
   "execution_count": null,
   "id": "71af3199",
   "metadata": {},
   "outputs": [],
   "source": [
    "#Print a variável estoqueAeB e observe a quantidade de valores NaN\n",
    "#2 - Substitua os valores NaN por 0"
   ]
  },
  {
   "cell_type": "code",
   "execution_count": null,
   "id": "0151a250",
   "metadata": {},
   "outputs": [],
   "source": [
    "#3 - Selecione as linhas de estoqueAeB onde a quantidade em estoque de um item seja maior que 100. "
   ]
  },
  {
   "cell_type": "code",
   "execution_count": null,
   "id": "e6377b2f",
   "metadata": {},
   "outputs": [],
   "source": [
    "#4 - Adicione a coluna estoque_total com a soma da quantidade no estoqueA com a quantidade no estoqueB"
   ]
  },
  {
   "cell_type": "code",
   "execution_count": null,
   "id": "77a6a4d1",
   "metadata": {},
   "outputs": [],
   "source": [
    "#5 - Combine todos os CSVs que começam com a palavra arquivo em um único DataFrame"
   ]
  },
  {
   "cell_type": "code",
   "execution_count": null,
   "id": "aea94ad7",
   "metadata": {},
   "outputs": [],
   "source": [
    "#6 Verique se o DataFrame estudantes possui algum registro duplicado"
   ]
  },
  {
   "cell_type": "code",
   "execution_count": null,
   "id": "3e123cff",
   "metadata": {},
   "outputs": [],
   "source": [
    "#Inspecione o DataFrame estudantes para conhecer os dados e colunas\n",
    "#7- A coluna gender_age possui duas informações gênero e idade, divida essa coluna em duas novas, gênero e idade\n",
    "#Imprima o .head()  para ver como fica o DataFrame após a criação das novas colunas."
   ]
  }
 ],
 "metadata": {
  "kernelspec": {
   "display_name": "Python 3",
   "language": "python",
   "name": "python3"
  },
  "language_info": {
   "codemirror_mode": {
    "name": "ipython",
    "version": 3
   },
   "file_extension": ".py",
   "mimetype": "text/x-python",
   "name": "python",
   "nbconvert_exporter": "python",
   "pygments_lexer": "ipython3",
   "version": "3.8.8"
  }
 },
 "nbformat": 4,
 "nbformat_minor": 5
}
