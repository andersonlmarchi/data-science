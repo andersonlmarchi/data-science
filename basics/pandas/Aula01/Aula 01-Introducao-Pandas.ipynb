{
 "cells": [
  {
   "cell_type": "markdown",
   "id": "94a6b29c",
   "metadata": {},
   "source": [
    "## Pandas"
   ]
  },
  {
   "cell_type": "markdown",
   "id": "ef9e2aff",
   "metadata": {},
   "source": [
    "Para atualizar o Pandas, abra o prompt de comando ou terminal e digite: pip install pandas -U"
   ]
  },
  {
   "cell_type": "markdown",
   "id": "eea2261a",
   "metadata": {},
   "source": [
    "Para importar o pandas, utilize: \n",
    "import pandas as pd\n",
    "\n",
    "Você também pode utilizar: \n",
    "from pandas import Series, DataFrame  "
   ]
  },
  {
   "cell_type": "markdown",
   "id": "9c238484",
   "metadata": {},
   "source": [
    "Antes de poder usar o Pandas, você precisará importá-la usando a seguinte linha de código. Usaremos a abreviação pd para simplificar nossas chamadas de função no futuro."
   ]
  },
  {
   "cell_type": "code",
   "execution_count": 2,
   "id": "d85c53f4",
   "metadata": {},
   "outputs": [],
   "source": [
    "import pandas as pd\n",
    "import numpy as np"
   ]
  },
  {
   "cell_type": "markdown",
   "id": "6a458a2a",
   "metadata": {},
   "source": [
    "## Pandas: Series e Dataframes"
   ]
  },
  {
   "cell_type": "markdown",
   "id": "4d0f1455",
   "metadata": {},
   "source": [
    "### Series"
   ]
  },
  {
   "cell_type": "code",
   "execution_count": 2,
   "id": "1bf0425e",
   "metadata": {},
   "outputs": [
    {
     "name": "stdout",
     "output_type": "stream",
     "text": [
      "0    13\n",
      "1    15\n",
      "2    19\n",
      "dtype: int64\n"
     ]
    }
   ],
   "source": [
    "idades = [13,15,19]\n",
    "serie1 = pd.Series(idades)\n",
    "print(serie1)"
   ]
  },
  {
   "cell_type": "markdown",
   "id": "450ab853",
   "metadata": {},
   "source": [
    "Ao imprimir uma Série, o tipo de dados de seus elementos também é impresso. Para personalizar os índices de um objeto Series, use o argumento index no construtor da Series."
   ]
  },
  {
   "cell_type": "code",
   "execution_count": 3,
   "id": "56b2b661",
   "metadata": {},
   "outputs": [
    {
     "data": {
      "text/plain": [
       "Jõao     13\n",
       "Pedro    25\n",
       "Maria    19\n",
       "dtype: int64"
      ]
     },
     "execution_count": 3,
     "metadata": {},
     "output_type": "execute_result"
    }
   ],
   "source": [
    "# Criando uma série usando o array NumPy de idades,\n",
    "# mas alterando os índices para serem os nomes que correspondem a cada idade\n",
    "idades = np.array([13,25,19])\n",
    "serie1 = pd.Series(idades,index=['Jõao', 'Pedro', 'Maria'])\n",
    "serie1"
   ]
  },
  {
   "cell_type": "markdown",
   "id": "424e66d2",
   "metadata": {},
   "source": [
    "### Dataframes"
   ]
  },
  {
   "cell_type": "markdown",
   "id": "24a964ea",
   "metadata": {},
   "source": [
    "Um DataFrame pode conter muitos tipos diferentes de tipos de dados, mas dentro de uma coluna, tudo precisa ser do mesmo tipo de dados. Uma coluna de um DataFrame é essencialmente uma série."
   ]
  },
  {
   "cell_type": "markdown",
   "id": "59e5cc25",
   "metadata": {},
   "source": [
    "Cada coluna tem um nome, que é uma string. Cada linha tem um índice, que é um número inteiro."
   ]
  },
  {
   "cell_type": "markdown",
   "id": "444a48a4",
   "metadata": {},
   "source": [
    "Existem diferentes maneiras de preencher um DataFrame, como um arquivo CSV, uma consulta SQL, uma lista Python ou um dicionário."
   ]
  },
  {
   "cell_type": "code",
   "execution_count": 4,
   "id": "648b7a26",
   "metadata": {},
   "outputs": [
    {
     "data": {
      "text/html": [
       "<div>\n",
       "<style scoped>\n",
       "    .dataframe tbody tr th:only-of-type {\n",
       "        vertical-align: middle;\n",
       "    }\n",
       "\n",
       "    .dataframe tbody tr th {\n",
       "        vertical-align: top;\n",
       "    }\n",
       "\n",
       "    .dataframe thead th {\n",
       "        text-align: right;\n",
       "    }\n",
       "</style>\n",
       "<table border=\"1\" class=\"dataframe\">\n",
       "  <thead>\n",
       "    <tr style=\"text-align: right;\">\n",
       "      <th></th>\n",
       "      <th>name</th>\n",
       "      <th>address</th>\n",
       "      <th>age</th>\n",
       "    </tr>\n",
       "  </thead>\n",
       "  <tbody>\n",
       "    <tr>\n",
       "      <th>0</th>\n",
       "      <td>John Smith</td>\n",
       "      <td>123 Main St.</td>\n",
       "      <td>34</td>\n",
       "    </tr>\n",
       "    <tr>\n",
       "      <th>1</th>\n",
       "      <td>Jane Doe</td>\n",
       "      <td>456 Maple Ave.</td>\n",
       "      <td>28</td>\n",
       "    </tr>\n",
       "    <tr>\n",
       "      <th>2</th>\n",
       "      <td>Joe Schmo</td>\n",
       "      <td>789 Broadway</td>\n",
       "      <td>51</td>\n",
       "    </tr>\n",
       "  </tbody>\n",
       "</table>\n",
       "</div>"
      ],
      "text/plain": [
       "         name         address  age\n",
       "0  John Smith    123 Main St.   34\n",
       "1    Jane Doe  456 Maple Ave.   28\n",
       "2   Joe Schmo    789 Broadway   51"
      ]
     },
     "execution_count": 4,
     "metadata": {},
     "output_type": "execute_result"
    }
   ],
   "source": [
    "#Criando um dataframe a partir de um dicionário \n",
    "df1 = pd.DataFrame({\n",
    "    'name': ['John Smith', 'Jane Doe', 'Joe Schmo'],\n",
    "    'address': ['123 Main St.', '456 Maple Ave.', '789 Broadway'],\n",
    "    'age': [34, 28, 51]\n",
    "})\n",
    "\n",
    "df1"
   ]
  },
  {
   "cell_type": "code",
   "execution_count": 5,
   "id": "7665ed1a",
   "metadata": {},
   "outputs": [
    {
     "data": {
      "text/html": [
       "<div>\n",
       "<style scoped>\n",
       "    .dataframe tbody tr th:only-of-type {\n",
       "        vertical-align: middle;\n",
       "    }\n",
       "\n",
       "    .dataframe tbody tr th {\n",
       "        vertical-align: top;\n",
       "    }\n",
       "\n",
       "    .dataframe thead th {\n",
       "        text-align: right;\n",
       "    }\n",
       "</style>\n",
       "<table border=\"1\" class=\"dataframe\">\n",
       "  <thead>\n",
       "    <tr style=\"text-align: right;\">\n",
       "      <th></th>\n",
       "      <th>nome</th>\n",
       "      <th>endereço</th>\n",
       "      <th>idade</th>\n",
       "    </tr>\n",
       "  </thead>\n",
       "  <tbody>\n",
       "    <tr>\n",
       "      <th>0</th>\n",
       "      <td>João</td>\n",
       "      <td>Rua Porto Alegre, 123</td>\n",
       "      <td>34</td>\n",
       "    </tr>\n",
       "    <tr>\n",
       "      <th>1</th>\n",
       "      <td>Joana</td>\n",
       "      <td>Rua Pernambuco, 456</td>\n",
       "      <td>28</td>\n",
       "    </tr>\n",
       "    <tr>\n",
       "      <th>2</th>\n",
       "      <td>José</td>\n",
       "      <td>Rua XV, 789</td>\n",
       "      <td>51</td>\n",
       "    </tr>\n",
       "  </tbody>\n",
       "</table>\n",
       "</div>"
      ],
      "text/plain": [
       "    nome               endereço  idade\n",
       "0   João  Rua Porto Alegre, 123     34\n",
       "1  Joana   Rua Pernambuco, 456      28\n",
       "2   José            Rua XV, 789     51"
      ]
     },
     "execution_count": 5,
     "metadata": {},
     "output_type": "execute_result"
    }
   ],
   "source": [
    "#Criando um dataframe a partir de uma lista\n",
    "df2 = pd.DataFrame([\n",
    "    ['João','Rua Porto Alegre, 123',34],\n",
    "    ['Joana', 'Rua Pernambuco, 456 ',28],\n",
    "    ['José', 'Rua XV, 789',51]\n",
    "    ],\n",
    "    columns=['nome','endereço','idade'])\n",
    "\n",
    "df2"
   ]
  },
  {
   "cell_type": "markdown",
   "id": "76f02aab",
   "metadata": {},
   "source": [
    "No entanto, na maioria das vezes, trabalharemos com conjuntos de dados que já existem. Um dos formatos mais comuns para grandes conjuntos de dados é o CSV ."
   ]
  },
  {
   "cell_type": "markdown",
   "id": "abdb708a",
   "metadata": {},
   "source": [
    "A primeira linha de um CSV contém cabeçalhos de coluna. Todas as linhas subsequentes contêm valores. Cada cabeçalho de coluna e cada variável são separados por uma vírgula."
   ]
  },
  {
   "cell_type": "code",
   "execution_count": 3,
   "id": "681e9a94",
   "metadata": {},
   "outputs": [
    {
     "data": {
      "text/html": [
       "<div>\n",
       "<style scoped>\n",
       "    .dataframe tbody tr th:only-of-type {\n",
       "        vertical-align: middle;\n",
       "    }\n",
       "\n",
       "    .dataframe tbody tr th {\n",
       "        vertical-align: top;\n",
       "    }\n",
       "\n",
       "    .dataframe thead th {\n",
       "        text-align: right;\n",
       "    }\n",
       "</style>\n",
       "<table border=\"1\" class=\"dataframe\">\n",
       "  <thead>\n",
       "    <tr style=\"text-align: right;\">\n",
       "      <th></th>\n",
       "      <th>sepal_length</th>\n",
       "      <th>sepal_width</th>\n",
       "      <th>petal_length</th>\n",
       "      <th>petal_width</th>\n",
       "      <th>species</th>\n",
       "    </tr>\n",
       "  </thead>\n",
       "  <tbody>\n",
       "    <tr>\n",
       "      <th>0</th>\n",
       "      <td>5.1</td>\n",
       "      <td>3.5</td>\n",
       "      <td>1.4</td>\n",
       "      <td>0.2</td>\n",
       "      <td>setosa</td>\n",
       "    </tr>\n",
       "    <tr>\n",
       "      <th>1</th>\n",
       "      <td>4.9</td>\n",
       "      <td>3.0</td>\n",
       "      <td>1.4</td>\n",
       "      <td>0.2</td>\n",
       "      <td>setosa</td>\n",
       "    </tr>\n",
       "    <tr>\n",
       "      <th>2</th>\n",
       "      <td>4.7</td>\n",
       "      <td>3.2</td>\n",
       "      <td>1.3</td>\n",
       "      <td>0.2</td>\n",
       "      <td>setosa</td>\n",
       "    </tr>\n",
       "    <tr>\n",
       "      <th>3</th>\n",
       "      <td>4.6</td>\n",
       "      <td>3.1</td>\n",
       "      <td>1.5</td>\n",
       "      <td>0.2</td>\n",
       "      <td>setosa</td>\n",
       "    </tr>\n",
       "    <tr>\n",
       "      <th>4</th>\n",
       "      <td>5.0</td>\n",
       "      <td>3.6</td>\n",
       "      <td>1.4</td>\n",
       "      <td>0.2</td>\n",
       "      <td>setosa</td>\n",
       "    </tr>\n",
       "    <tr>\n",
       "      <th>...</th>\n",
       "      <td>...</td>\n",
       "      <td>...</td>\n",
       "      <td>...</td>\n",
       "      <td>...</td>\n",
       "      <td>...</td>\n",
       "    </tr>\n",
       "    <tr>\n",
       "      <th>145</th>\n",
       "      <td>6.7</td>\n",
       "      <td>3.0</td>\n",
       "      <td>5.2</td>\n",
       "      <td>2.3</td>\n",
       "      <td>virginica</td>\n",
       "    </tr>\n",
       "    <tr>\n",
       "      <th>146</th>\n",
       "      <td>6.3</td>\n",
       "      <td>2.5</td>\n",
       "      <td>5.0</td>\n",
       "      <td>1.9</td>\n",
       "      <td>virginica</td>\n",
       "    </tr>\n",
       "    <tr>\n",
       "      <th>147</th>\n",
       "      <td>6.5</td>\n",
       "      <td>3.0</td>\n",
       "      <td>5.2</td>\n",
       "      <td>2.0</td>\n",
       "      <td>virginica</td>\n",
       "    </tr>\n",
       "    <tr>\n",
       "      <th>148</th>\n",
       "      <td>6.2</td>\n",
       "      <td>3.4</td>\n",
       "      <td>5.4</td>\n",
       "      <td>2.3</td>\n",
       "      <td>virginica</td>\n",
       "    </tr>\n",
       "    <tr>\n",
       "      <th>149</th>\n",
       "      <td>5.9</td>\n",
       "      <td>3.0</td>\n",
       "      <td>5.1</td>\n",
       "      <td>1.8</td>\n",
       "      <td>virginica</td>\n",
       "    </tr>\n",
       "  </tbody>\n",
       "</table>\n",
       "<p>150 rows × 5 columns</p>\n",
       "</div>"
      ],
      "text/plain": [
       "     sepal_length  sepal_width  petal_length  petal_width    species\n",
       "0             5.1          3.5           1.4          0.2     setosa\n",
       "1             4.9          3.0           1.4          0.2     setosa\n",
       "2             4.7          3.2           1.3          0.2     setosa\n",
       "3             4.6          3.1           1.5          0.2     setosa\n",
       "4             5.0          3.6           1.4          0.2     setosa\n",
       "..            ...          ...           ...          ...        ...\n",
       "145           6.7          3.0           5.2          2.3  virginica\n",
       "146           6.3          2.5           5.0          1.9  virginica\n",
       "147           6.5          3.0           5.2          2.0  virginica\n",
       "148           6.2          3.4           5.4          2.3  virginica\n",
       "149           5.9          3.0           5.1          1.8  virginica\n",
       "\n",
       "[150 rows x 5 columns]"
      ]
     },
     "execution_count": 3,
     "metadata": {},
     "output_type": "execute_result"
    }
   ],
   "source": [
    "#Carregando um CSV em um DataFrame no Pandas usando .read_csv()\n",
    "df3 = pd.read_csv('../files/iris.csv')\n",
    "df3"
   ]
  },
  {
   "cell_type": "code",
   "execution_count": 7,
   "id": "fd2e6742",
   "metadata": {},
   "outputs": [],
   "source": [
    "#Também podemos salvar dados de um dataframe em um CSV, usando .to_csv()\n",
    "df3.to_csv('../files/iris2.csv')"
   ]
  },
  {
   "cell_type": "markdown",
   "id": "e390e4a7",
   "metadata": {},
   "source": [
    "## Inspecionar um DataFrame"
   ]
  },
  {
   "cell_type": "markdown",
   "id": "eca85fc5",
   "metadata": {},
   "source": [
    "Quando carregamos um novo DataFrame de um CSV, queremos saber como ele se parece.Se for um DataFrame pequeno, você pode exibi-lo digitando print(df).Se for um DataFrame maior, é útil poder inspecionar alguns itens sem precisar examinar o DataFrame inteiro.\n",
    "\n",
    "O método .head()fornece as primeiras 5 linhas de um DataFrame. "
   ]
  },
  {
   "cell_type": "markdown",
   "id": "4e7e6f60",
   "metadata": {},
   "source": [
    "Os métodos .info() e .describe() fornecem algumas estatísticas para cada coluna."
   ]
  },
  {
   "cell_type": "code",
   "execution_count": 8,
   "id": "ff99d1f9",
   "metadata": {},
   "outputs": [
    {
     "data": {
      "text/html": [
       "<div>\n",
       "<style scoped>\n",
       "    .dataframe tbody tr th:only-of-type {\n",
       "        vertical-align: middle;\n",
       "    }\n",
       "\n",
       "    .dataframe tbody tr th {\n",
       "        vertical-align: top;\n",
       "    }\n",
       "\n",
       "    .dataframe thead th {\n",
       "        text-align: right;\n",
       "    }\n",
       "</style>\n",
       "<table border=\"1\" class=\"dataframe\">\n",
       "  <thead>\n",
       "    <tr style=\"text-align: right;\">\n",
       "      <th></th>\n",
       "      <th>sepal_length</th>\n",
       "      <th>sepal_width</th>\n",
       "      <th>petal_length</th>\n",
       "      <th>petal_width</th>\n",
       "      <th>species</th>\n",
       "    </tr>\n",
       "  </thead>\n",
       "  <tbody>\n",
       "    <tr>\n",
       "      <th>0</th>\n",
       "      <td>5.1</td>\n",
       "      <td>3.5</td>\n",
       "      <td>1.4</td>\n",
       "      <td>0.2</td>\n",
       "      <td>setosa</td>\n",
       "    </tr>\n",
       "    <tr>\n",
       "      <th>1</th>\n",
       "      <td>4.9</td>\n",
       "      <td>3.0</td>\n",
       "      <td>1.4</td>\n",
       "      <td>0.2</td>\n",
       "      <td>setosa</td>\n",
       "    </tr>\n",
       "    <tr>\n",
       "      <th>2</th>\n",
       "      <td>4.7</td>\n",
       "      <td>3.2</td>\n",
       "      <td>1.3</td>\n",
       "      <td>0.2</td>\n",
       "      <td>setosa</td>\n",
       "    </tr>\n",
       "    <tr>\n",
       "      <th>3</th>\n",
       "      <td>4.6</td>\n",
       "      <td>3.1</td>\n",
       "      <td>1.5</td>\n",
       "      <td>0.2</td>\n",
       "      <td>setosa</td>\n",
       "    </tr>\n",
       "    <tr>\n",
       "      <th>4</th>\n",
       "      <td>5.0</td>\n",
       "      <td>3.6</td>\n",
       "      <td>1.4</td>\n",
       "      <td>0.2</td>\n",
       "      <td>setosa</td>\n",
       "    </tr>\n",
       "  </tbody>\n",
       "</table>\n",
       "</div>"
      ],
      "text/plain": [
       "   sepal_length  sepal_width  petal_length  petal_width species\n",
       "0           5.1          3.5           1.4          0.2  setosa\n",
       "1           4.9          3.0           1.4          0.2  setosa\n",
       "2           4.7          3.2           1.3          0.2  setosa\n",
       "3           4.6          3.1           1.5          0.2  setosa\n",
       "4           5.0          3.6           1.4          0.2  setosa"
      ]
     },
     "execution_count": 8,
     "metadata": {},
     "output_type": "execute_result"
    }
   ],
   "source": [
    "df3.head()"
   ]
  },
  {
   "cell_type": "code",
   "execution_count": 9,
   "id": "e2ea947b",
   "metadata": {},
   "outputs": [
    {
     "name": "stdout",
     "output_type": "stream",
     "text": [
      "<class 'pandas.core.frame.DataFrame'>\n",
      "RangeIndex: 150 entries, 0 to 149\n",
      "Data columns (total 5 columns):\n",
      " #   Column        Non-Null Count  Dtype  \n",
      "---  ------        --------------  -----  \n",
      " 0   sepal_length  150 non-null    float64\n",
      " 1   sepal_width   150 non-null    float64\n",
      " 2   petal_length  150 non-null    float64\n",
      " 3   petal_width   150 non-null    float64\n",
      " 4   species       150 non-null    object \n",
      "dtypes: float64(4), object(1)\n",
      "memory usage: 6.0+ KB\n"
     ]
    }
   ],
   "source": [
    "df3.info()"
   ]
  },
  {
   "cell_type": "code",
   "execution_count": 10,
   "id": "870ec8d3",
   "metadata": {},
   "outputs": [
    {
     "data": {
      "text/html": [
       "<div>\n",
       "<style scoped>\n",
       "    .dataframe tbody tr th:only-of-type {\n",
       "        vertical-align: middle;\n",
       "    }\n",
       "\n",
       "    .dataframe tbody tr th {\n",
       "        vertical-align: top;\n",
       "    }\n",
       "\n",
       "    .dataframe thead th {\n",
       "        text-align: right;\n",
       "    }\n",
       "</style>\n",
       "<table border=\"1\" class=\"dataframe\">\n",
       "  <thead>\n",
       "    <tr style=\"text-align: right;\">\n",
       "      <th></th>\n",
       "      <th>sepal_length</th>\n",
       "      <th>sepal_width</th>\n",
       "      <th>petal_length</th>\n",
       "      <th>petal_width</th>\n",
       "    </tr>\n",
       "  </thead>\n",
       "  <tbody>\n",
       "    <tr>\n",
       "      <th>count</th>\n",
       "      <td>150.000000</td>\n",
       "      <td>150.000000</td>\n",
       "      <td>150.000000</td>\n",
       "      <td>150.000000</td>\n",
       "    </tr>\n",
       "    <tr>\n",
       "      <th>mean</th>\n",
       "      <td>5.843333</td>\n",
       "      <td>3.054000</td>\n",
       "      <td>3.758667</td>\n",
       "      <td>1.198667</td>\n",
       "    </tr>\n",
       "    <tr>\n",
       "      <th>std</th>\n",
       "      <td>0.828066</td>\n",
       "      <td>0.433594</td>\n",
       "      <td>1.764420</td>\n",
       "      <td>0.763161</td>\n",
       "    </tr>\n",
       "    <tr>\n",
       "      <th>min</th>\n",
       "      <td>4.300000</td>\n",
       "      <td>2.000000</td>\n",
       "      <td>1.000000</td>\n",
       "      <td>0.100000</td>\n",
       "    </tr>\n",
       "    <tr>\n",
       "      <th>25%</th>\n",
       "      <td>5.100000</td>\n",
       "      <td>2.800000</td>\n",
       "      <td>1.600000</td>\n",
       "      <td>0.300000</td>\n",
       "    </tr>\n",
       "    <tr>\n",
       "      <th>50%</th>\n",
       "      <td>5.800000</td>\n",
       "      <td>3.000000</td>\n",
       "      <td>4.350000</td>\n",
       "      <td>1.300000</td>\n",
       "    </tr>\n",
       "    <tr>\n",
       "      <th>75%</th>\n",
       "      <td>6.400000</td>\n",
       "      <td>3.300000</td>\n",
       "      <td>5.100000</td>\n",
       "      <td>1.800000</td>\n",
       "    </tr>\n",
       "    <tr>\n",
       "      <th>max</th>\n",
       "      <td>7.900000</td>\n",
       "      <td>4.400000</td>\n",
       "      <td>6.900000</td>\n",
       "      <td>2.500000</td>\n",
       "    </tr>\n",
       "  </tbody>\n",
       "</table>\n",
       "</div>"
      ],
      "text/plain": [
       "       sepal_length  sepal_width  petal_length  petal_width\n",
       "count    150.000000   150.000000    150.000000   150.000000\n",
       "mean       5.843333     3.054000      3.758667     1.198667\n",
       "std        0.828066     0.433594      1.764420     0.763161\n",
       "min        4.300000     2.000000      1.000000     0.100000\n",
       "25%        5.100000     2.800000      1.600000     0.300000\n",
       "50%        5.800000     3.000000      4.350000     1.300000\n",
       "75%        6.400000     3.300000      5.100000     1.800000\n",
       "max        7.900000     4.400000      6.900000     2.500000"
      ]
     },
     "execution_count": 10,
     "metadata": {},
     "output_type": "execute_result"
    }
   ],
   "source": [
    "df3.describe()"
   ]
  },
  {
   "cell_type": "markdown",
   "id": "a1feac69",
   "metadata": {},
   "source": [
    "## Selecionar colunas"
   ]
  },
  {
   "cell_type": "code",
   "execution_count": 11,
   "id": "c404acbd",
   "metadata": {},
   "outputs": [
    {
     "data": {
      "text/html": [
       "<div>\n",
       "<style scoped>\n",
       "    .dataframe tbody tr th:only-of-type {\n",
       "        vertical-align: middle;\n",
       "    }\n",
       "\n",
       "    .dataframe tbody tr th {\n",
       "        vertical-align: top;\n",
       "    }\n",
       "\n",
       "    .dataframe thead th {\n",
       "        text-align: right;\n",
       "    }\n",
       "</style>\n",
       "<table border=\"1\" class=\"dataframe\">\n",
       "  <thead>\n",
       "    <tr style=\"text-align: right;\">\n",
       "      <th></th>\n",
       "      <th>Estado</th>\n",
       "      <th>Ano</th>\n",
       "      <th>População</th>\n",
       "    </tr>\n",
       "  </thead>\n",
       "  <tbody>\n",
       "    <tr>\n",
       "      <th>0</th>\n",
       "      <td>Santa Catarina</td>\n",
       "      <td>2002</td>\n",
       "      <td>1.5</td>\n",
       "    </tr>\n",
       "    <tr>\n",
       "      <th>1</th>\n",
       "      <td>Paraná</td>\n",
       "      <td>2003</td>\n",
       "      <td>1.7</td>\n",
       "    </tr>\n",
       "    <tr>\n",
       "      <th>2</th>\n",
       "      <td>Goiás</td>\n",
       "      <td>2004</td>\n",
       "      <td>3.6</td>\n",
       "    </tr>\n",
       "    <tr>\n",
       "      <th>3</th>\n",
       "      <td>Bahia</td>\n",
       "      <td>2005</td>\n",
       "      <td>2.4</td>\n",
       "    </tr>\n",
       "    <tr>\n",
       "      <th>4</th>\n",
       "      <td>Minas Gerais</td>\n",
       "      <td>2006</td>\n",
       "      <td>2.9</td>\n",
       "    </tr>\n",
       "  </tbody>\n",
       "</table>\n",
       "</div>"
      ],
      "text/plain": [
       "           Estado   Ano  População\n",
       "0  Santa Catarina  2002        1.5\n",
       "1          Paraná  2003        1.7\n",
       "2           Goiás  2004        3.6\n",
       "3           Bahia  2005        2.4\n",
       "4    Minas Gerais  2006        2.9"
      ]
     },
     "execution_count": 11,
     "metadata": {},
     "output_type": "execute_result"
    }
   ],
   "source": [
    "df = pd.DataFrame({'Estado': ['Santa Catarina', 'Paraná', 'Goiás', 'Bahia', 'Minas Gerais'], \n",
    "        'Ano': [2002, 2003, 2004, 2005, 2006], \n",
    "        'População': [1.5, 1.7, 3.6, 2.4, 2.9]})\n",
    "df"
   ]
  },
  {
   "cell_type": "code",
   "execution_count": 12,
   "id": "5247dc17",
   "metadata": {},
   "outputs": [
    {
     "data": {
      "text/plain": [
       "0    Santa Catarina\n",
       "1            Paraná\n",
       "2             Goiás\n",
       "3             Bahia\n",
       "4      Minas Gerais\n",
       "Name: Estado, dtype: object"
      ]
     },
     "execution_count": 12,
     "metadata": {},
     "output_type": "execute_result"
    }
   ],
   "source": [
    "estados = df['Estado']\n",
    "estados"
   ]
  },
  {
   "cell_type": "markdown",
   "id": "8cc8b239",
   "metadata": {},
   "source": [
    "Quando você tem um DataFrame maior, talvez queira selecionar apenas algumas colunas."
   ]
  },
  {
   "cell_type": "code",
   "execution_count": 13,
   "id": "ff93f29a",
   "metadata": {},
   "outputs": [
    {
     "data": {
      "text/html": [
       "<div>\n",
       "<style scoped>\n",
       "    .dataframe tbody tr th:only-of-type {\n",
       "        vertical-align: middle;\n",
       "    }\n",
       "\n",
       "    .dataframe tbody tr th {\n",
       "        vertical-align: top;\n",
       "    }\n",
       "\n",
       "    .dataframe thead th {\n",
       "        text-align: right;\n",
       "    }\n",
       "</style>\n",
       "<table border=\"1\" class=\"dataframe\">\n",
       "  <thead>\n",
       "    <tr style=\"text-align: right;\">\n",
       "      <th></th>\n",
       "      <th>Estado</th>\n",
       "      <th>População</th>\n",
       "    </tr>\n",
       "  </thead>\n",
       "  <tbody>\n",
       "    <tr>\n",
       "      <th>0</th>\n",
       "      <td>Santa Catarina</td>\n",
       "      <td>1.5</td>\n",
       "    </tr>\n",
       "    <tr>\n",
       "      <th>1</th>\n",
       "      <td>Paraná</td>\n",
       "      <td>1.7</td>\n",
       "    </tr>\n",
       "    <tr>\n",
       "      <th>2</th>\n",
       "      <td>Goiás</td>\n",
       "      <td>3.6</td>\n",
       "    </tr>\n",
       "    <tr>\n",
       "      <th>3</th>\n",
       "      <td>Bahia</td>\n",
       "      <td>2.4</td>\n",
       "    </tr>\n",
       "    <tr>\n",
       "      <th>4</th>\n",
       "      <td>Minas Gerais</td>\n",
       "      <td>2.9</td>\n",
       "    </tr>\n",
       "  </tbody>\n",
       "</table>\n",
       "</div>"
      ],
      "text/plain": [
       "           Estado  População\n",
       "0  Santa Catarina        1.5\n",
       "1          Paraná        1.7\n",
       "2           Goiás        3.6\n",
       "3           Bahia        2.4\n",
       "4    Minas Gerais        2.9"
      ]
     },
     "execution_count": 13,
     "metadata": {},
     "output_type": "execute_result"
    }
   ],
   "source": [
    "#Para selecionar duas ou mais colunas de um DataFrame, usamos uma lista dos nomes das colunas.\n",
    "novoDF = df[['Estado','População']]\n",
    "novoDF"
   ]
  },
  {
   "cell_type": "markdown",
   "id": "375dc837",
   "metadata": {},
   "source": [
    "## Selecionar linhas"
   ]
  },
  {
   "cell_type": "markdown",
   "id": "7799d82b",
   "metadata": {},
   "source": [
    "Os DataFrames são indexados a zero, o que significa que começamos com a linha 0 e contamos a partir daí."
   ]
  },
  {
   "cell_type": "code",
   "execution_count": 14,
   "id": "dead10c6",
   "metadata": {},
   "outputs": [
    {
     "data": {
      "text/plain": [
       "Estado       Santa Catarina\n",
       "Ano                    2002\n",
       "População               1.5\n",
       "Name: 0, dtype: object"
      ]
     },
     "execution_count": 14,
     "metadata": {},
     "output_type": "execute_result"
    }
   ],
   "source": [
    "#Selecionado uma linha\n",
    "df.iloc[0]"
   ]
  },
  {
   "cell_type": "code",
   "execution_count": null,
   "id": "ddf6c8da",
   "metadata": {},
   "outputs": [],
   "source": [
    "# Selecionado várias linhas"
   ]
  },
  {
   "cell_type": "code",
   "execution_count": 15,
   "id": "ad68bfe2",
   "metadata": {},
   "outputs": [
    {
     "data": {
      "text/html": [
       "<div>\n",
       "<style scoped>\n",
       "    .dataframe tbody tr th:only-of-type {\n",
       "        vertical-align: middle;\n",
       "    }\n",
       "\n",
       "    .dataframe tbody tr th {\n",
       "        vertical-align: top;\n",
       "    }\n",
       "\n",
       "    .dataframe thead th {\n",
       "        text-align: right;\n",
       "    }\n",
       "</style>\n",
       "<table border=\"1\" class=\"dataframe\">\n",
       "  <thead>\n",
       "    <tr style=\"text-align: right;\">\n",
       "      <th></th>\n",
       "      <th>Estado</th>\n",
       "      <th>Ano</th>\n",
       "      <th>População</th>\n",
       "    </tr>\n",
       "  </thead>\n",
       "  <tbody>\n",
       "    <tr>\n",
       "      <th>2</th>\n",
       "      <td>Goiás</td>\n",
       "      <td>2004</td>\n",
       "      <td>3.6</td>\n",
       "    </tr>\n",
       "    <tr>\n",
       "      <th>3</th>\n",
       "      <td>Bahia</td>\n",
       "      <td>2005</td>\n",
       "      <td>2.4</td>\n",
       "    </tr>\n",
       "  </tbody>\n",
       "</table>\n",
       "</div>"
      ],
      "text/plain": [
       "  Estado   Ano  População\n",
       "2  Goiás  2004        3.6\n",
       "3  Bahia  2005        2.4"
      ]
     },
     "execution_count": 15,
     "metadata": {},
     "output_type": "execute_result"
    }
   ],
   "source": [
    "df.iloc[2:4]"
   ]
  },
  {
   "cell_type": "code",
   "execution_count": 16,
   "id": "e5da8879",
   "metadata": {},
   "outputs": [
    {
     "data": {
      "text/html": [
       "<div>\n",
       "<style scoped>\n",
       "    .dataframe tbody tr th:only-of-type {\n",
       "        vertical-align: middle;\n",
       "    }\n",
       "\n",
       "    .dataframe tbody tr th {\n",
       "        vertical-align: top;\n",
       "    }\n",
       "\n",
       "    .dataframe thead th {\n",
       "        text-align: right;\n",
       "    }\n",
       "</style>\n",
       "<table border=\"1\" class=\"dataframe\">\n",
       "  <thead>\n",
       "    <tr style=\"text-align: right;\">\n",
       "      <th></th>\n",
       "      <th>Estado</th>\n",
       "      <th>Ano</th>\n",
       "      <th>População</th>\n",
       "    </tr>\n",
       "  </thead>\n",
       "  <tbody>\n",
       "    <tr>\n",
       "      <th>0</th>\n",
       "      <td>Santa Catarina</td>\n",
       "      <td>2002</td>\n",
       "      <td>1.5</td>\n",
       "    </tr>\n",
       "    <tr>\n",
       "      <th>1</th>\n",
       "      <td>Paraná</td>\n",
       "      <td>2003</td>\n",
       "      <td>1.7</td>\n",
       "    </tr>\n",
       "    <tr>\n",
       "      <th>2</th>\n",
       "      <td>Goiás</td>\n",
       "      <td>2004</td>\n",
       "      <td>3.6</td>\n",
       "    </tr>\n",
       "  </tbody>\n",
       "</table>\n",
       "</div>"
      ],
      "text/plain": [
       "           Estado   Ano  População\n",
       "0  Santa Catarina  2002        1.5\n",
       "1          Paraná  2003        1.7\n",
       "2           Goiás  2004        3.6"
      ]
     },
     "execution_count": 16,
     "metadata": {},
     "output_type": "execute_result"
    }
   ],
   "source": [
    "df.iloc[:3]"
   ]
  },
  {
   "cell_type": "code",
   "execution_count": 17,
   "id": "be4c2f8c",
   "metadata": {},
   "outputs": [
    {
     "data": {
      "text/html": [
       "<div>\n",
       "<style scoped>\n",
       "    .dataframe tbody tr th:only-of-type {\n",
       "        vertical-align: middle;\n",
       "    }\n",
       "\n",
       "    .dataframe tbody tr th {\n",
       "        vertical-align: top;\n",
       "    }\n",
       "\n",
       "    .dataframe thead th {\n",
       "        text-align: right;\n",
       "    }\n",
       "</style>\n",
       "<table border=\"1\" class=\"dataframe\">\n",
       "  <thead>\n",
       "    <tr style=\"text-align: right;\">\n",
       "      <th></th>\n",
       "      <th>Estado</th>\n",
       "      <th>Ano</th>\n",
       "      <th>População</th>\n",
       "    </tr>\n",
       "  </thead>\n",
       "  <tbody>\n",
       "    <tr>\n",
       "      <th>3</th>\n",
       "      <td>Bahia</td>\n",
       "      <td>2005</td>\n",
       "      <td>2.4</td>\n",
       "    </tr>\n",
       "    <tr>\n",
       "      <th>4</th>\n",
       "      <td>Minas Gerais</td>\n",
       "      <td>2006</td>\n",
       "      <td>2.9</td>\n",
       "    </tr>\n",
       "  </tbody>\n",
       "</table>\n",
       "</div>"
      ],
      "text/plain": [
       "         Estado   Ano  População\n",
       "3         Bahia  2005        2.4\n",
       "4  Minas Gerais  2006        2.9"
      ]
     },
     "execution_count": 17,
     "metadata": {},
     "output_type": "execute_result"
    }
   ],
   "source": [
    "df.iloc[-2:]"
   ]
  },
  {
   "cell_type": "code",
   "execution_count": null,
   "id": "a3e47b59",
   "metadata": {},
   "outputs": [],
   "source": [
    "# Selecionado linhas utilizando instruções lógicas"
   ]
  },
  {
   "cell_type": "code",
   "execution_count": 18,
   "id": "afbd8d7c",
   "metadata": {},
   "outputs": [
    {
     "data": {
      "text/html": [
       "<div>\n",
       "<style scoped>\n",
       "    .dataframe tbody tr th:only-of-type {\n",
       "        vertical-align: middle;\n",
       "    }\n",
       "\n",
       "    .dataframe tbody tr th {\n",
       "        vertical-align: top;\n",
       "    }\n",
       "\n",
       "    .dataframe thead th {\n",
       "        text-align: right;\n",
       "    }\n",
       "</style>\n",
       "<table border=\"1\" class=\"dataframe\">\n",
       "  <thead>\n",
       "    <tr style=\"text-align: right;\">\n",
       "      <th></th>\n",
       "      <th>Estado</th>\n",
       "      <th>Ano</th>\n",
       "      <th>População</th>\n",
       "    </tr>\n",
       "  </thead>\n",
       "  <tbody>\n",
       "    <tr>\n",
       "      <th>2</th>\n",
       "      <td>Goiás</td>\n",
       "      <td>2004</td>\n",
       "      <td>3.6</td>\n",
       "    </tr>\n",
       "    <tr>\n",
       "      <th>3</th>\n",
       "      <td>Bahia</td>\n",
       "      <td>2005</td>\n",
       "      <td>2.4</td>\n",
       "    </tr>\n",
       "    <tr>\n",
       "      <th>4</th>\n",
       "      <td>Minas Gerais</td>\n",
       "      <td>2006</td>\n",
       "      <td>2.9</td>\n",
       "    </tr>\n",
       "  </tbody>\n",
       "</table>\n",
       "</div>"
      ],
      "text/plain": [
       "         Estado   Ano  População\n",
       "2         Goiás  2004        3.6\n",
       "3         Bahia  2005        2.4\n",
       "4  Minas Gerais  2006        2.9"
      ]
     },
     "execution_count": 18,
     "metadata": {},
     "output_type": "execute_result"
    }
   ],
   "source": [
    "df[df.População > 2]"
   ]
  },
  {
   "cell_type": "code",
   "execution_count": 19,
   "id": "dd32f550",
   "metadata": {},
   "outputs": [
    {
     "data": {
      "text/html": [
       "<div>\n",
       "<style scoped>\n",
       "    .dataframe tbody tr th:only-of-type {\n",
       "        vertical-align: middle;\n",
       "    }\n",
       "\n",
       "    .dataframe tbody tr th {\n",
       "        vertical-align: top;\n",
       "    }\n",
       "\n",
       "    .dataframe thead th {\n",
       "        text-align: right;\n",
       "    }\n",
       "</style>\n",
       "<table border=\"1\" class=\"dataframe\">\n",
       "  <thead>\n",
       "    <tr style=\"text-align: right;\">\n",
       "      <th></th>\n",
       "      <th>Estado</th>\n",
       "      <th>Ano</th>\n",
       "      <th>População</th>\n",
       "    </tr>\n",
       "  </thead>\n",
       "  <tbody>\n",
       "    <tr>\n",
       "      <th>0</th>\n",
       "      <td>Santa Catarina</td>\n",
       "      <td>2002</td>\n",
       "      <td>1.5</td>\n",
       "    </tr>\n",
       "    <tr>\n",
       "      <th>1</th>\n",
       "      <td>Paraná</td>\n",
       "      <td>2003</td>\n",
       "      <td>1.7</td>\n",
       "    </tr>\n",
       "  </tbody>\n",
       "</table>\n",
       "</div>"
      ],
      "text/plain": [
       "           Estado   Ano  População\n",
       "0  Santa Catarina  2002        1.5\n",
       "1          Paraná  2003        1.7"
      ]
     },
     "execution_count": 19,
     "metadata": {},
     "output_type": "execute_result"
    }
   ],
   "source": [
    "df[df.População < 2]"
   ]
  },
  {
   "cell_type": "code",
   "execution_count": 20,
   "id": "3b372391",
   "metadata": {},
   "outputs": [
    {
     "data": {
      "text/html": [
       "<div>\n",
       "<style scoped>\n",
       "    .dataframe tbody tr th:only-of-type {\n",
       "        vertical-align: middle;\n",
       "    }\n",
       "\n",
       "    .dataframe tbody tr th {\n",
       "        vertical-align: top;\n",
       "    }\n",
       "\n",
       "    .dataframe thead th {\n",
       "        text-align: right;\n",
       "    }\n",
       "</style>\n",
       "<table border=\"1\" class=\"dataframe\">\n",
       "  <thead>\n",
       "    <tr style=\"text-align: right;\">\n",
       "      <th></th>\n",
       "      <th>Estado</th>\n",
       "      <th>Ano</th>\n",
       "      <th>População</th>\n",
       "    </tr>\n",
       "  </thead>\n",
       "  <tbody>\n",
       "    <tr>\n",
       "      <th>0</th>\n",
       "      <td>Santa Catarina</td>\n",
       "      <td>2002</td>\n",
       "      <td>1.5</td>\n",
       "    </tr>\n",
       "    <tr>\n",
       "      <th>1</th>\n",
       "      <td>Paraná</td>\n",
       "      <td>2003</td>\n",
       "      <td>1.7</td>\n",
       "    </tr>\n",
       "    <tr>\n",
       "      <th>3</th>\n",
       "      <td>Bahia</td>\n",
       "      <td>2005</td>\n",
       "      <td>2.4</td>\n",
       "    </tr>\n",
       "    <tr>\n",
       "      <th>4</th>\n",
       "      <td>Minas Gerais</td>\n",
       "      <td>2006</td>\n",
       "      <td>2.9</td>\n",
       "    </tr>\n",
       "  </tbody>\n",
       "</table>\n",
       "</div>"
      ],
      "text/plain": [
       "           Estado   Ano  População\n",
       "0  Santa Catarina  2002        1.5\n",
       "1          Paraná  2003        1.7\n",
       "3           Bahia  2005        2.4\n",
       "4    Minas Gerais  2006        2.9"
      ]
     },
     "execution_count": 20,
     "metadata": {},
     "output_type": "execute_result"
    }
   ],
   "source": [
    "df2 = df[df.Estado != 'Goiás']\n",
    "df2"
   ]
  },
  {
   "cell_type": "code",
   "execution_count": 21,
   "id": "ffa3c8e0",
   "metadata": {},
   "outputs": [
    {
     "data": {
      "text/html": [
       "<div>\n",
       "<style scoped>\n",
       "    .dataframe tbody tr th:only-of-type {\n",
       "        vertical-align: middle;\n",
       "    }\n",
       "\n",
       "    .dataframe tbody tr th {\n",
       "        vertical-align: top;\n",
       "    }\n",
       "\n",
       "    .dataframe thead th {\n",
       "        text-align: right;\n",
       "    }\n",
       "</style>\n",
       "<table border=\"1\" class=\"dataframe\">\n",
       "  <thead>\n",
       "    <tr style=\"text-align: right;\">\n",
       "      <th></th>\n",
       "      <th>index</th>\n",
       "      <th>Estado</th>\n",
       "      <th>Ano</th>\n",
       "      <th>População</th>\n",
       "    </tr>\n",
       "  </thead>\n",
       "  <tbody>\n",
       "    <tr>\n",
       "      <th>0</th>\n",
       "      <td>0</td>\n",
       "      <td>Santa Catarina</td>\n",
       "      <td>2002</td>\n",
       "      <td>1.5</td>\n",
       "    </tr>\n",
       "    <tr>\n",
       "      <th>1</th>\n",
       "      <td>1</td>\n",
       "      <td>Paraná</td>\n",
       "      <td>2003</td>\n",
       "      <td>1.7</td>\n",
       "    </tr>\n",
       "    <tr>\n",
       "      <th>2</th>\n",
       "      <td>3</td>\n",
       "      <td>Bahia</td>\n",
       "      <td>2005</td>\n",
       "      <td>2.4</td>\n",
       "    </tr>\n",
       "    <tr>\n",
       "      <th>3</th>\n",
       "      <td>4</td>\n",
       "      <td>Minas Gerais</td>\n",
       "      <td>2006</td>\n",
       "      <td>2.9</td>\n",
       "    </tr>\n",
       "  </tbody>\n",
       "</table>\n",
       "</div>"
      ],
      "text/plain": [
       "   index          Estado   Ano  População\n",
       "0      0  Santa Catarina  2002        1.5\n",
       "1      1          Paraná  2003        1.7\n",
       "2      3           Bahia  2005        2.4\n",
       "3      4    Minas Gerais  2006        2.9"
      ]
     },
     "execution_count": 21,
     "metadata": {},
     "output_type": "execute_result"
    }
   ],
   "source": [
    "# Quando selecionamos um subconjunto de um DataFrame usando lógica, acabamos com índices não consecutivos.\n",
    "# Podemos corrigir isso usando o método .reset_index().\n",
    "df3 = df2.reset_index()\n",
    "df3"
   ]
  },
  {
   "cell_type": "code",
   "execution_count": 22,
   "id": "94f4ec2a",
   "metadata": {},
   "outputs": [
    {
     "data": {
      "text/html": [
       "<div>\n",
       "<style scoped>\n",
       "    .dataframe tbody tr th:only-of-type {\n",
       "        vertical-align: middle;\n",
       "    }\n",
       "\n",
       "    .dataframe tbody tr th {\n",
       "        vertical-align: top;\n",
       "    }\n",
       "\n",
       "    .dataframe thead th {\n",
       "        text-align: right;\n",
       "    }\n",
       "</style>\n",
       "<table border=\"1\" class=\"dataframe\">\n",
       "  <thead>\n",
       "    <tr style=\"text-align: right;\">\n",
       "      <th></th>\n",
       "      <th>Estado</th>\n",
       "      <th>Ano</th>\n",
       "      <th>População</th>\n",
       "    </tr>\n",
       "  </thead>\n",
       "  <tbody>\n",
       "    <tr>\n",
       "      <th>0</th>\n",
       "      <td>Santa Catarina</td>\n",
       "      <td>2002</td>\n",
       "      <td>1.5</td>\n",
       "    </tr>\n",
       "    <tr>\n",
       "      <th>1</th>\n",
       "      <td>Paraná</td>\n",
       "      <td>2003</td>\n",
       "      <td>1.7</td>\n",
       "    </tr>\n",
       "    <tr>\n",
       "      <th>2</th>\n",
       "      <td>Bahia</td>\n",
       "      <td>2005</td>\n",
       "      <td>2.4</td>\n",
       "    </tr>\n",
       "    <tr>\n",
       "      <th>3</th>\n",
       "      <td>Minas Gerais</td>\n",
       "      <td>2006</td>\n",
       "      <td>2.9</td>\n",
       "    </tr>\n",
       "  </tbody>\n",
       "</table>\n",
       "</div>"
      ],
      "text/plain": [
       "           Estado   Ano  População\n",
       "0  Santa Catarina  2002        1.5\n",
       "1          Paraná  2003        1.7\n",
       "2           Bahia  2005        2.4\n",
       "3    Minas Gerais  2006        2.9"
      ]
     },
     "execution_count": 22,
     "metadata": {},
     "output_type": "execute_result"
    }
   ],
   "source": [
    "df2.reset_index(inplace = True, drop = True)\n",
    "df2"
   ]
  },
  {
   "cell_type": "code",
   "execution_count": 23,
   "id": "736249f4",
   "metadata": {},
   "outputs": [],
   "source": [
    "df = pd.read_csv('../files/olimpíadas.csv')"
   ]
  },
  {
   "cell_type": "code",
   "execution_count": 24,
   "id": "16e35bba",
   "metadata": {},
   "outputs": [
    {
     "name": "stdout",
     "output_type": "stream",
     "text": [
      "<class 'pandas.core.frame.DataFrame'>\n",
      "RangeIndex: 269718 entries, 0 to 269717\n",
      "Data columns (total 15 columns):\n",
      " #   Column       Non-Null Count   Dtype  \n",
      "---  ------       --------------   -----  \n",
      " 0   ano          269718 non-null  int64  \n",
      " 1   edicao       269718 non-null  object \n",
      " 2   cidade_sede  269718 non-null  object \n",
      " 3   pais         269348 non-null  object \n",
      " 4   delegacao    269718 non-null  object \n",
      " 5   equipe       269718 non-null  object \n",
      " 6   id_atleta    269718 non-null  int64  \n",
      " 7   nome_atleta  269718 non-null  object \n",
      " 8   sexo         269718 non-null  object \n",
      " 9   idade        260410 non-null  float64\n",
      " 10  altura       210917 non-null  float64\n",
      " 11  peso         208204 non-null  float64\n",
      " 12  esporte      269718 non-null  object \n",
      " 13  evento       269718 non-null  object \n",
      " 14  medalha      39772 non-null   object \n",
      "dtypes: float64(3), int64(2), object(10)\n",
      "memory usage: 30.9+ MB\n"
     ]
    }
   ],
   "source": [
    "df.info()"
   ]
  },
  {
   "cell_type": "code",
   "execution_count": 25,
   "id": "1686f262",
   "metadata": {},
   "outputs": [
    {
     "data": {
      "text/html": [
       "<div>\n",
       "<style scoped>\n",
       "    .dataframe tbody tr th:only-of-type {\n",
       "        vertical-align: middle;\n",
       "    }\n",
       "\n",
       "    .dataframe tbody tr th {\n",
       "        vertical-align: top;\n",
       "    }\n",
       "\n",
       "    .dataframe thead th {\n",
       "        text-align: right;\n",
       "    }\n",
       "</style>\n",
       "<table border=\"1\" class=\"dataframe\">\n",
       "  <thead>\n",
       "    <tr style=\"text-align: right;\">\n",
       "      <th></th>\n",
       "      <th>ano</th>\n",
       "      <th>edicao</th>\n",
       "      <th>cidade_sede</th>\n",
       "      <th>pais</th>\n",
       "      <th>delegacao</th>\n",
       "      <th>equipe</th>\n",
       "      <th>id_atleta</th>\n",
       "      <th>nome_atleta</th>\n",
       "      <th>sexo</th>\n",
       "      <th>idade</th>\n",
       "      <th>altura</th>\n",
       "      <th>peso</th>\n",
       "      <th>esporte</th>\n",
       "      <th>evento</th>\n",
       "      <th>medalha</th>\n",
       "    </tr>\n",
       "  </thead>\n",
       "  <tbody>\n",
       "    <tr>\n",
       "      <th>203838</th>\n",
       "      <td>2004</td>\n",
       "      <td>Summer</td>\n",
       "      <td>Athina</td>\n",
       "      <td>Brazil</td>\n",
       "      <td>BRA</td>\n",
       "      <td>Brazil</td>\n",
       "      <td>3790</td>\n",
       "      <td>Anderson de Oliveira Rodrigues</td>\n",
       "      <td>M</td>\n",
       "      <td>30.0</td>\n",
       "      <td>190.0</td>\n",
       "      <td>95.0</td>\n",
       "      <td>Volleyball</td>\n",
       "      <td>Volleyball Men's Volleyball</td>\n",
       "      <td>Gold</td>\n",
       "    </tr>\n",
       "    <tr>\n",
       "      <th>203894</th>\n",
       "      <td>2004</td>\n",
       "      <td>Summer</td>\n",
       "      <td>Athina</td>\n",
       "      <td>Brazil</td>\n",
       "      <td>BRA</td>\n",
       "      <td>Brazil</td>\n",
       "      <td>25307</td>\n",
       "      <td>Dante Guimares Santos do Amaral</td>\n",
       "      <td>M</td>\n",
       "      <td>23.0</td>\n",
       "      <td>201.0</td>\n",
       "      <td>86.0</td>\n",
       "      <td>Volleyball</td>\n",
       "      <td>Volleyball Men's Volleyball</td>\n",
       "      <td>Gold</td>\n",
       "    </tr>\n",
       "    <tr>\n",
       "      <th>203934</th>\n",
       "      <td>2004</td>\n",
       "      <td>Summer</td>\n",
       "      <td>Athina</td>\n",
       "      <td>Brazil</td>\n",
       "      <td>BRA</td>\n",
       "      <td>Brazil-1</td>\n",
       "      <td>32468</td>\n",
       "      <td>Emanuel Fernando Scheffler Rego</td>\n",
       "      <td>M</td>\n",
       "      <td>31.0</td>\n",
       "      <td>190.0</td>\n",
       "      <td>80.0</td>\n",
       "      <td>Beach Volleyball</td>\n",
       "      <td>Beach Volleyball Men's Beach Volleyball</td>\n",
       "      <td>Gold</td>\n",
       "    </tr>\n",
       "    <tr>\n",
       "      <th>203936</th>\n",
       "      <td>2004</td>\n",
       "      <td>Summer</td>\n",
       "      <td>Athina</td>\n",
       "      <td>Brazil</td>\n",
       "      <td>BRA</td>\n",
       "      <td>Brazil</td>\n",
       "      <td>33095</td>\n",
       "      <td>Srgio \"Escadinha\" Dutra dos Santos</td>\n",
       "      <td>M</td>\n",
       "      <td>28.0</td>\n",
       "      <td>184.0</td>\n",
       "      <td>78.0</td>\n",
       "      <td>Volleyball</td>\n",
       "      <td>Volleyball Men's Volleyball</td>\n",
       "      <td>Gold</td>\n",
       "    </tr>\n",
       "    <tr>\n",
       "      <th>203941</th>\n",
       "      <td>2004</td>\n",
       "      <td>Summer</td>\n",
       "      <td>Athina</td>\n",
       "      <td>Brazil</td>\n",
       "      <td>BRA</td>\n",
       "      <td>Brazil</td>\n",
       "      <td>34995</td>\n",
       "      <td>Marcelo Bastos Ferreira</td>\n",
       "      <td>M</td>\n",
       "      <td>38.0</td>\n",
       "      <td>181.0</td>\n",
       "      <td>104.0</td>\n",
       "      <td>Sailing</td>\n",
       "      <td>Sailing Men's Two Person Keelboat</td>\n",
       "      <td>Gold</td>\n",
       "    </tr>\n",
       "    <tr>\n",
       "      <th>...</th>\n",
       "      <td>...</td>\n",
       "      <td>...</td>\n",
       "      <td>...</td>\n",
       "      <td>...</td>\n",
       "      <td>...</td>\n",
       "      <td>...</td>\n",
       "      <td>...</td>\n",
       "      <td>...</td>\n",
       "      <td>...</td>\n",
       "      <td>...</td>\n",
       "      <td>...</td>\n",
       "      <td>...</td>\n",
       "      <td>...</td>\n",
       "      <td>...</td>\n",
       "      <td>...</td>\n",
       "    </tr>\n",
       "    <tr>\n",
       "      <th>258097</th>\n",
       "      <td>2016</td>\n",
       "      <td>Summer</td>\n",
       "      <td>Rio de Janeiro</td>\n",
       "      <td>Brazil</td>\n",
       "      <td>BRA</td>\n",
       "      <td>Brazil</td>\n",
       "      <td>128021</td>\n",
       "      <td>Walace Souza Silva</td>\n",
       "      <td>M</td>\n",
       "      <td>21.0</td>\n",
       "      <td>188.0</td>\n",
       "      <td>75.0</td>\n",
       "      <td>Football</td>\n",
       "      <td>Football Men's Football</td>\n",
       "      <td>Gold</td>\n",
       "    </tr>\n",
       "    <tr>\n",
       "      <th>258098</th>\n",
       "      <td>2016</td>\n",
       "      <td>Summer</td>\n",
       "      <td>Rio de Janeiro</td>\n",
       "      <td>Brazil</td>\n",
       "      <td>BRA</td>\n",
       "      <td>Brazil</td>\n",
       "      <td>128152</td>\n",
       "      <td>Wallace Leandro de Souza</td>\n",
       "      <td>M</td>\n",
       "      <td>29.0</td>\n",
       "      <td>198.0</td>\n",
       "      <td>87.0</td>\n",
       "      <td>Volleyball</td>\n",
       "      <td>Volleyball Men's Volleyball</td>\n",
       "      <td>Gold</td>\n",
       "    </tr>\n",
       "    <tr>\n",
       "      <th>258099</th>\n",
       "      <td>2016</td>\n",
       "      <td>Summer</td>\n",
       "      <td>Rio de Janeiro</td>\n",
       "      <td>Brazil</td>\n",
       "      <td>BRA</td>\n",
       "      <td>Brazil</td>\n",
       "      <td>129899</td>\n",
       "      <td>Wverton Pereira da Silva</td>\n",
       "      <td>M</td>\n",
       "      <td>28.0</td>\n",
       "      <td>189.0</td>\n",
       "      <td>86.0</td>\n",
       "      <td>Football</td>\n",
       "      <td>Football Men's Football</td>\n",
       "      <td>Gold</td>\n",
       "    </tr>\n",
       "    <tr>\n",
       "      <th>258100</th>\n",
       "      <td>2016</td>\n",
       "      <td>Summer</td>\n",
       "      <td>Rio de Janeiro</td>\n",
       "      <td>Brazil</td>\n",
       "      <td>BRA</td>\n",
       "      <td>Brazil</td>\n",
       "      <td>130541</td>\n",
       "      <td>William de Asevedo Furtado</td>\n",
       "      <td>M</td>\n",
       "      <td>21.0</td>\n",
       "      <td>176.0</td>\n",
       "      <td>65.0</td>\n",
       "      <td>Football</td>\n",
       "      <td>Football Men's Football</td>\n",
       "      <td>Gold</td>\n",
       "    </tr>\n",
       "    <tr>\n",
       "      <th>258109</th>\n",
       "      <td>2016</td>\n",
       "      <td>Summer</td>\n",
       "      <td>Rio de Janeiro</td>\n",
       "      <td>Brazil</td>\n",
       "      <td>BRA</td>\n",
       "      <td>Brazil</td>\n",
       "      <td>134211</td>\n",
       "      <td>Jos Carlos Cracco Neto</td>\n",
       "      <td>M</td>\n",
       "      <td>22.0</td>\n",
       "      <td>170.0</td>\n",
       "      <td>69.0</td>\n",
       "      <td>Football</td>\n",
       "      <td>Football Men's Football</td>\n",
       "      <td>Gold</td>\n",
       "    </tr>\n",
       "  </tbody>\n",
       "</table>\n",
       "<p>82 rows × 15 columns</p>\n",
       "</div>"
      ],
      "text/plain": [
       "         ano  edicao     cidade_sede    pais delegacao    equipe  id_atleta  \\\n",
       "203838  2004  Summer          Athina  Brazil       BRA    Brazil       3790   \n",
       "203894  2004  Summer          Athina  Brazil       BRA    Brazil      25307   \n",
       "203934  2004  Summer          Athina  Brazil       BRA  Brazil-1      32468   \n",
       "203936  2004  Summer          Athina  Brazil       BRA    Brazil      33095   \n",
       "203941  2004  Summer          Athina  Brazil       BRA    Brazil      34995   \n",
       "...      ...     ...             ...     ...       ...       ...        ...   \n",
       "258097  2016  Summer  Rio de Janeiro  Brazil       BRA    Brazil     128021   \n",
       "258098  2016  Summer  Rio de Janeiro  Brazil       BRA    Brazil     128152   \n",
       "258099  2016  Summer  Rio de Janeiro  Brazil       BRA    Brazil     129899   \n",
       "258100  2016  Summer  Rio de Janeiro  Brazil       BRA    Brazil     130541   \n",
       "258109  2016  Summer  Rio de Janeiro  Brazil       BRA    Brazil     134211   \n",
       "\n",
       "                               nome_atleta sexo  idade  altura   peso  \\\n",
       "203838      Anderson de Oliveira Rodrigues    M   30.0   190.0   95.0   \n",
       "203894     Dante Guimares Santos do Amaral    M   23.0   201.0   86.0   \n",
       "203934     Emanuel Fernando Scheffler Rego    M   31.0   190.0   80.0   \n",
       "203936  Srgio \"Escadinha\" Dutra dos Santos    M   28.0   184.0   78.0   \n",
       "203941             Marcelo Bastos Ferreira    M   38.0   181.0  104.0   \n",
       "...                                    ...  ...    ...     ...    ...   \n",
       "258097                  Walace Souza Silva    M   21.0   188.0   75.0   \n",
       "258098            Wallace Leandro de Souza    M   29.0   198.0   87.0   \n",
       "258099            Wverton Pereira da Silva    M   28.0   189.0   86.0   \n",
       "258100          William de Asevedo Furtado    M   21.0   176.0   65.0   \n",
       "258109              Jos Carlos Cracco Neto    M   22.0   170.0   69.0   \n",
       "\n",
       "                 esporte                                   evento medalha  \n",
       "203838        Volleyball              Volleyball Men's Volleyball    Gold  \n",
       "203894        Volleyball              Volleyball Men's Volleyball    Gold  \n",
       "203934  Beach Volleyball  Beach Volleyball Men's Beach Volleyball    Gold  \n",
       "203936        Volleyball              Volleyball Men's Volleyball    Gold  \n",
       "203941           Sailing        Sailing Men's Two Person Keelboat    Gold  \n",
       "...                  ...                                      ...     ...  \n",
       "258097          Football                  Football Men's Football    Gold  \n",
       "258098        Volleyball              Volleyball Men's Volleyball    Gold  \n",
       "258099          Football                  Football Men's Football    Gold  \n",
       "258100          Football                  Football Men's Football    Gold  \n",
       "258109          Football                  Football Men's Football    Gold  \n",
       "\n",
       "[82 rows x 15 columns]"
      ]
     },
     "execution_count": 25,
     "metadata": {},
     "output_type": "execute_result"
    }
   ],
   "source": [
    "#combinando várias instruções lógicas, desde que cada instrução esteja entre parênteses.\n",
    "df[(df.pais == 'Brazil') & (df.medalha == 'Gold') & (df.ano >= 2004)]"
   ]
  },
  {
   "cell_type": "markdown",
   "id": "313277ca",
   "metadata": {},
   "source": [
    "### Pandas: comandos básicos\n",
    "https://pandas.pydata.org/docs/user_guide/10min.html"
   ]
  },
  {
   "cell_type": "markdown",
   "id": "48cc43e7",
   "metadata": {},
   "source": [
    "## Modificando DataFrames"
   ]
  },
  {
   "cell_type": "markdown",
   "id": "7b6e56aa",
   "metadata": {},
   "source": [
    "### Adicionando uma Coluna"
   ]
  },
  {
   "cell_type": "code",
   "execution_count": 27,
   "id": "33ea2c69",
   "metadata": {},
   "outputs": [],
   "source": [
    "df = pd.DataFrame([\n",
    "  [1, 'Parafuso de 3 polegadas', 0.5, 0.75],\n",
    "  [2, 'Prego de duas polegadas', 0.10, 0.25],\n",
    "  [3, 'Martelo', 3.00, 5.50],\n",
    "  [4, 'Chave de fenda', 2.50, 3.00]\n",
    "],\n",
    "  columns=['ID do produto', 'Descrição', 'Custo de fabricação', 'preço']\n",
    ")"
   ]
  },
  {
   "cell_type": "code",
   "execution_count": 28,
   "id": "a598b91f",
   "metadata": {},
   "outputs": [
    {
     "data": {
      "text/html": [
       "<div>\n",
       "<style scoped>\n",
       "    .dataframe tbody tr th:only-of-type {\n",
       "        vertical-align: middle;\n",
       "    }\n",
       "\n",
       "    .dataframe tbody tr th {\n",
       "        vertical-align: top;\n",
       "    }\n",
       "\n",
       "    .dataframe thead th {\n",
       "        text-align: right;\n",
       "    }\n",
       "</style>\n",
       "<table border=\"1\" class=\"dataframe\">\n",
       "  <thead>\n",
       "    <tr style=\"text-align: right;\">\n",
       "      <th></th>\n",
       "      <th>ID do produto</th>\n",
       "      <th>Descrição</th>\n",
       "      <th>Custo de fabricação</th>\n",
       "      <th>preço</th>\n",
       "    </tr>\n",
       "  </thead>\n",
       "  <tbody>\n",
       "    <tr>\n",
       "      <th>0</th>\n",
       "      <td>1</td>\n",
       "      <td>Parafuso de 3 polegadas</td>\n",
       "      <td>0.5</td>\n",
       "      <td>0.75</td>\n",
       "    </tr>\n",
       "    <tr>\n",
       "      <th>1</th>\n",
       "      <td>2</td>\n",
       "      <td>Prego de duas polegadas</td>\n",
       "      <td>0.1</td>\n",
       "      <td>0.25</td>\n",
       "    </tr>\n",
       "    <tr>\n",
       "      <th>2</th>\n",
       "      <td>3</td>\n",
       "      <td>Martelo</td>\n",
       "      <td>3.0</td>\n",
       "      <td>5.50</td>\n",
       "    </tr>\n",
       "    <tr>\n",
       "      <th>3</th>\n",
       "      <td>4</td>\n",
       "      <td>Chave de fenda</td>\n",
       "      <td>2.5</td>\n",
       "      <td>3.00</td>\n",
       "    </tr>\n",
       "  </tbody>\n",
       "</table>\n",
       "</div>"
      ],
      "text/plain": [
       "   ID do produto                Descrição  Custo de fabricação  preço\n",
       "0              1  Parafuso de 3 polegadas                  0.5   0.75\n",
       "1              2  Prego de duas polegadas                  0.1   0.25\n",
       "2              3                  Martelo                  3.0   5.50\n",
       "3              4           Chave de fenda                  2.5   3.00"
      ]
     },
     "execution_count": 28,
     "metadata": {},
     "output_type": "execute_result"
    }
   ],
   "source": [
    "df"
   ]
  },
  {
   "cell_type": "code",
   "execution_count": 29,
   "id": "0a64d89b",
   "metadata": {},
   "outputs": [
    {
     "data": {
      "text/html": [
       "<div>\n",
       "<style scoped>\n",
       "    .dataframe tbody tr th:only-of-type {\n",
       "        vertical-align: middle;\n",
       "    }\n",
       "\n",
       "    .dataframe tbody tr th {\n",
       "        vertical-align: top;\n",
       "    }\n",
       "\n",
       "    .dataframe thead th {\n",
       "        text-align: right;\n",
       "    }\n",
       "</style>\n",
       "<table border=\"1\" class=\"dataframe\">\n",
       "  <thead>\n",
       "    <tr style=\"text-align: right;\">\n",
       "      <th></th>\n",
       "      <th>ID do produto</th>\n",
       "      <th>Descrição</th>\n",
       "      <th>Custo de fabricação</th>\n",
       "      <th>preço</th>\n",
       "      <th>Quantidade</th>\n",
       "    </tr>\n",
       "  </thead>\n",
       "  <tbody>\n",
       "    <tr>\n",
       "      <th>0</th>\n",
       "      <td>1</td>\n",
       "      <td>Parafuso de 3 polegadas</td>\n",
       "      <td>0.5</td>\n",
       "      <td>0.75</td>\n",
       "      <td>100</td>\n",
       "    </tr>\n",
       "    <tr>\n",
       "      <th>1</th>\n",
       "      <td>2</td>\n",
       "      <td>Prego de duas polegadas</td>\n",
       "      <td>0.1</td>\n",
       "      <td>0.25</td>\n",
       "      <td>150</td>\n",
       "    </tr>\n",
       "    <tr>\n",
       "      <th>2</th>\n",
       "      <td>3</td>\n",
       "      <td>Martelo</td>\n",
       "      <td>3.0</td>\n",
       "      <td>5.50</td>\n",
       "      <td>50</td>\n",
       "    </tr>\n",
       "    <tr>\n",
       "      <th>3</th>\n",
       "      <td>4</td>\n",
       "      <td>Chave de fenda</td>\n",
       "      <td>2.5</td>\n",
       "      <td>3.00</td>\n",
       "      <td>35</td>\n",
       "    </tr>\n",
       "  </tbody>\n",
       "</table>\n",
       "</div>"
      ],
      "text/plain": [
       "   ID do produto                Descrição  Custo de fabricação  preço  \\\n",
       "0              1  Parafuso de 3 polegadas                  0.5   0.75   \n",
       "1              2  Prego de duas polegadas                  0.1   0.25   \n",
       "2              3                  Martelo                  3.0   5.50   \n",
       "3              4           Chave de fenda                  2.5   3.00   \n",
       "\n",
       "   Quantidade  \n",
       "0         100  \n",
       "1         150  \n",
       "2          50  \n",
       "3          35  "
      ]
     },
     "execution_count": 29,
     "metadata": {},
     "output_type": "execute_result"
    }
   ],
   "source": [
    "# Adicionando uma coluna com novas informações\n",
    "df['Quantidade'] = [100,150,50,35]\n",
    "df"
   ]
  },
  {
   "cell_type": "code",
   "execution_count": 30,
   "id": "3e64347f",
   "metadata": {},
   "outputs": [
    {
     "data": {
      "text/html": [
       "<div>\n",
       "<style scoped>\n",
       "    .dataframe tbody tr th:only-of-type {\n",
       "        vertical-align: middle;\n",
       "    }\n",
       "\n",
       "    .dataframe tbody tr th {\n",
       "        vertical-align: top;\n",
       "    }\n",
       "\n",
       "    .dataframe thead th {\n",
       "        text-align: right;\n",
       "    }\n",
       "</style>\n",
       "<table border=\"1\" class=\"dataframe\">\n",
       "  <thead>\n",
       "    <tr style=\"text-align: right;\">\n",
       "      <th></th>\n",
       "      <th>ID do produto</th>\n",
       "      <th>Descrição</th>\n",
       "      <th>Custo de fabricação</th>\n",
       "      <th>preço</th>\n",
       "      <th>Quantidade</th>\n",
       "      <th>Em estoque</th>\n",
       "    </tr>\n",
       "  </thead>\n",
       "  <tbody>\n",
       "    <tr>\n",
       "      <th>0</th>\n",
       "      <td>1</td>\n",
       "      <td>Parafuso de 3 polegadas</td>\n",
       "      <td>0.5</td>\n",
       "      <td>0.75</td>\n",
       "      <td>100</td>\n",
       "      <td>Ok</td>\n",
       "    </tr>\n",
       "    <tr>\n",
       "      <th>1</th>\n",
       "      <td>2</td>\n",
       "      <td>Prego de duas polegadas</td>\n",
       "      <td>0.1</td>\n",
       "      <td>0.25</td>\n",
       "      <td>150</td>\n",
       "      <td>Ok</td>\n",
       "    </tr>\n",
       "    <tr>\n",
       "      <th>2</th>\n",
       "      <td>3</td>\n",
       "      <td>Martelo</td>\n",
       "      <td>3.0</td>\n",
       "      <td>5.50</td>\n",
       "      <td>50</td>\n",
       "      <td>Ok</td>\n",
       "    </tr>\n",
       "    <tr>\n",
       "      <th>3</th>\n",
       "      <td>4</td>\n",
       "      <td>Chave de fenda</td>\n",
       "      <td>2.5</td>\n",
       "      <td>3.00</td>\n",
       "      <td>35</td>\n",
       "      <td>Ok</td>\n",
       "    </tr>\n",
       "  </tbody>\n",
       "</table>\n",
       "</div>"
      ],
      "text/plain": [
       "   ID do produto                Descrição  Custo de fabricação  preço  \\\n",
       "0              1  Parafuso de 3 polegadas                  0.5   0.75   \n",
       "1              2  Prego de duas polegadas                  0.1   0.25   \n",
       "2              3                  Martelo                  3.0   5.50   \n",
       "3              4           Chave de fenda                  2.5   3.00   \n",
       "\n",
       "   Quantidade Em estoque  \n",
       "0         100         Ok  \n",
       "1         150         Ok  \n",
       "2          50         Ok  \n",
       "3          35         Ok  "
      ]
     },
     "execution_count": 30,
     "metadata": {},
     "output_type": "execute_result"
    }
   ],
   "source": [
    "# Adicionando uma coluna com a mesma informação para todas as linhas.\n",
    "df['Em estoque'] = 'Ok'\n",
    "df"
   ]
  },
  {
   "cell_type": "code",
   "execution_count": 31,
   "id": "f01fcb5f",
   "metadata": {},
   "outputs": [
    {
     "data": {
      "text/html": [
       "<div>\n",
       "<style scoped>\n",
       "    .dataframe tbody tr th:only-of-type {\n",
       "        vertical-align: middle;\n",
       "    }\n",
       "\n",
       "    .dataframe tbody tr th {\n",
       "        vertical-align: top;\n",
       "    }\n",
       "\n",
       "    .dataframe thead th {\n",
       "        text-align: right;\n",
       "    }\n",
       "</style>\n",
       "<table border=\"1\" class=\"dataframe\">\n",
       "  <thead>\n",
       "    <tr style=\"text-align: right;\">\n",
       "      <th></th>\n",
       "      <th>ID do produto</th>\n",
       "      <th>Descrição</th>\n",
       "      <th>Custo de fabricação</th>\n",
       "      <th>preço</th>\n",
       "      <th>Quantidade</th>\n",
       "      <th>Em estoque</th>\n",
       "      <th>Imposto sobre vendas</th>\n",
       "    </tr>\n",
       "  </thead>\n",
       "  <tbody>\n",
       "    <tr>\n",
       "      <th>0</th>\n",
       "      <td>1</td>\n",
       "      <td>Parafuso de 3 polegadas</td>\n",
       "      <td>0.5</td>\n",
       "      <td>0.75</td>\n",
       "      <td>100</td>\n",
       "      <td>Ok</td>\n",
       "      <td>0.05625</td>\n",
       "    </tr>\n",
       "    <tr>\n",
       "      <th>1</th>\n",
       "      <td>2</td>\n",
       "      <td>Prego de duas polegadas</td>\n",
       "      <td>0.1</td>\n",
       "      <td>0.25</td>\n",
       "      <td>150</td>\n",
       "      <td>Ok</td>\n",
       "      <td>0.01875</td>\n",
       "    </tr>\n",
       "    <tr>\n",
       "      <th>2</th>\n",
       "      <td>3</td>\n",
       "      <td>Martelo</td>\n",
       "      <td>3.0</td>\n",
       "      <td>5.50</td>\n",
       "      <td>50</td>\n",
       "      <td>Ok</td>\n",
       "      <td>0.41250</td>\n",
       "    </tr>\n",
       "    <tr>\n",
       "      <th>3</th>\n",
       "      <td>4</td>\n",
       "      <td>Chave de fenda</td>\n",
       "      <td>2.5</td>\n",
       "      <td>3.00</td>\n",
       "      <td>35</td>\n",
       "      <td>Ok</td>\n",
       "      <td>0.22500</td>\n",
       "    </tr>\n",
       "  </tbody>\n",
       "</table>\n",
       "</div>"
      ],
      "text/plain": [
       "   ID do produto                Descrição  Custo de fabricação  preço  \\\n",
       "0              1  Parafuso de 3 polegadas                  0.5   0.75   \n",
       "1              2  Prego de duas polegadas                  0.1   0.25   \n",
       "2              3                  Martelo                  3.0   5.50   \n",
       "3              4           Chave de fenda                  2.5   3.00   \n",
       "\n",
       "   Quantidade Em estoque  Imposto sobre vendas  \n",
       "0         100         Ok               0.05625  \n",
       "1         150         Ok               0.01875  \n",
       "2          50         Ok               0.41250  \n",
       "3          35         Ok               0.22500  "
      ]
     },
     "execution_count": 31,
     "metadata": {},
     "output_type": "execute_result"
    }
   ],
   "source": [
    "#Adicionando uma coluna executando uma operação \n",
    "#com dados das colunas existentes\n",
    "df['Imposto sobre vendas'] = df.preço * 0.075\n",
    "df"
   ]
  },
  {
   "cell_type": "markdown",
   "id": "59e96113",
   "metadata": {},
   "source": [
    "## Executando operações nas colunas existentes"
   ]
  },
  {
   "cell_type": "code",
   "execution_count": 32,
   "id": "cb8012e9",
   "metadata": {},
   "outputs": [
    {
     "data": {
      "text/html": [
       "<div>\n",
       "<style scoped>\n",
       "    .dataframe tbody tr th:only-of-type {\n",
       "        vertical-align: middle;\n",
       "    }\n",
       "\n",
       "    .dataframe tbody tr th {\n",
       "        vertical-align: top;\n",
       "    }\n",
       "\n",
       "    .dataframe thead th {\n",
       "        text-align: right;\n",
       "    }\n",
       "</style>\n",
       "<table border=\"1\" class=\"dataframe\">\n",
       "  <thead>\n",
       "    <tr style=\"text-align: right;\">\n",
       "      <th></th>\n",
       "      <th>Nome</th>\n",
       "      <th>Email</th>\n",
       "    </tr>\n",
       "  </thead>\n",
       "  <tbody>\n",
       "    <tr>\n",
       "      <th>0</th>\n",
       "      <td>DANIEL GOMES SOARES</td>\n",
       "      <td>daniel.soares@ifc.edu.br</td>\n",
       "    </tr>\n",
       "    <tr>\n",
       "      <th>1</th>\n",
       "      <td>Juliano Tonizetti Brignoli</td>\n",
       "      <td>juliano.brignoli@ifc.edu.br</td>\n",
       "    </tr>\n",
       "    <tr>\n",
       "      <th>2</th>\n",
       "      <td>André Stein</td>\n",
       "      <td>andre.stein@ifc.edu.br</td>\n",
       "    </tr>\n",
       "    <tr>\n",
       "      <th>3</th>\n",
       "      <td>Cristhian Heck</td>\n",
       "      <td>cristhian.heck@ifc.edu.br</td>\n",
       "    </tr>\n",
       "  </tbody>\n",
       "</table>\n",
       "</div>"
      ],
      "text/plain": [
       "                         Nome                        Email\n",
       "0         DANIEL GOMES SOARES     daniel.soares@ifc.edu.br\n",
       "1  Juliano Tonizetti Brignoli  juliano.brignoli@ifc.edu.br\n",
       "2                 André Stein       andre.stein@ifc.edu.br\n",
       "3              Cristhian Heck    cristhian.heck@ifc.edu.br"
      ]
     },
     "execution_count": 32,
     "metadata": {},
     "output_type": "execute_result"
    }
   ],
   "source": [
    "df2 = pd.DataFrame([\n",
    "  ['DANIEL GOMES SOARES', 'daniel.soares@ifc.edu.br'],\n",
    "  ['Juliano Tonizetti Brignoli', 'juliano.brignoli@ifc.edu.br'],\n",
    "  ['André Stein', 'andre.stein@ifc.edu.br'],\n",
    "  ['Cristhian Heck', 'cristhian.heck@ifc.edu.br']\n",
    "],\n",
    "columns=['Nome', 'Email'])\n",
    "df2"
   ]
  },
  {
   "cell_type": "code",
   "execution_count": 33,
   "id": "8dab7da0",
   "metadata": {},
   "outputs": [
    {
     "data": {
      "text/html": [
       "<div>\n",
       "<style scoped>\n",
       "    .dataframe tbody tr th:only-of-type {\n",
       "        vertical-align: middle;\n",
       "    }\n",
       "\n",
       "    .dataframe tbody tr th {\n",
       "        vertical-align: top;\n",
       "    }\n",
       "\n",
       "    .dataframe thead th {\n",
       "        text-align: right;\n",
       "    }\n",
       "</style>\n",
       "<table border=\"1\" class=\"dataframe\">\n",
       "  <thead>\n",
       "    <tr style=\"text-align: right;\">\n",
       "      <th></th>\n",
       "      <th>Nome</th>\n",
       "      <th>Email</th>\n",
       "    </tr>\n",
       "  </thead>\n",
       "  <tbody>\n",
       "    <tr>\n",
       "      <th>0</th>\n",
       "      <td>DANIEL GOMES SOARES</td>\n",
       "      <td>daniel.soares@ifc.edu.br</td>\n",
       "    </tr>\n",
       "    <tr>\n",
       "      <th>1</th>\n",
       "      <td>JULIANO TONIZETTI BRIGNOLI</td>\n",
       "      <td>juliano.brignoli@ifc.edu.br</td>\n",
       "    </tr>\n",
       "    <tr>\n",
       "      <th>2</th>\n",
       "      <td>ANDRÉ STEIN</td>\n",
       "      <td>andre.stein@ifc.edu.br</td>\n",
       "    </tr>\n",
       "    <tr>\n",
       "      <th>3</th>\n",
       "      <td>CRISTHIAN HECK</td>\n",
       "      <td>cristhian.heck@ifc.edu.br</td>\n",
       "    </tr>\n",
       "  </tbody>\n",
       "</table>\n",
       "</div>"
      ],
      "text/plain": [
       "                         Nome                        Email\n",
       "0         DANIEL GOMES SOARES     daniel.soares@ifc.edu.br\n",
       "1  JULIANO TONIZETTI BRIGNOLI  juliano.brignoli@ifc.edu.br\n",
       "2                 ANDRÉ STEIN       andre.stein@ifc.edu.br\n",
       "3              CRISTHIAN HECK    cristhian.heck@ifc.edu.br"
      ]
     },
     "execution_count": 33,
     "metadata": {},
     "output_type": "execute_result"
    }
   ],
   "source": [
    "# Tornando todas os nomes maiúsculos\n",
    "df2['Nome'] = df2.Nome.apply(str.upper)\n",
    "df2"
   ]
  },
  {
   "cell_type": "markdown",
   "id": "b712774a",
   "metadata": {},
   "source": [
    "Aplicando uma função Lambda a uma coluna"
   ]
  },
  {
   "cell_type": "markdown",
   "id": "f874ff16",
   "metadata": {},
   "source": [
    "Em Pandas, geralmente usamos funções lambda para realizar operações complexas em colunas. "
   ]
  },
  {
   "cell_type": "code",
   "execution_count": 34,
   "id": "61454978",
   "metadata": {},
   "outputs": [
    {
     "data": {
      "text/html": [
       "<div>\n",
       "<style scoped>\n",
       "    .dataframe tbody tr th:only-of-type {\n",
       "        vertical-align: middle;\n",
       "    }\n",
       "\n",
       "    .dataframe tbody tr th {\n",
       "        vertical-align: top;\n",
       "    }\n",
       "\n",
       "    .dataframe thead th {\n",
       "        text-align: right;\n",
       "    }\n",
       "</style>\n",
       "<table border=\"1\" class=\"dataframe\">\n",
       "  <thead>\n",
       "    <tr style=\"text-align: right;\">\n",
       "      <th></th>\n",
       "      <th>Nome</th>\n",
       "      <th>Email</th>\n",
       "      <th>Provedor de email</th>\n",
       "    </tr>\n",
       "  </thead>\n",
       "  <tbody>\n",
       "    <tr>\n",
       "      <th>0</th>\n",
       "      <td>DANIEL GOMES SOARES</td>\n",
       "      <td>daniel.soares@ifc.edu.br</td>\n",
       "      <td>ifc.edu.br</td>\n",
       "    </tr>\n",
       "    <tr>\n",
       "      <th>1</th>\n",
       "      <td>JULIANO TONIZETTI BRIGNOLI</td>\n",
       "      <td>juliano.brignoli@ifc.edu.br</td>\n",
       "      <td>ifc.edu.br</td>\n",
       "    </tr>\n",
       "    <tr>\n",
       "      <th>2</th>\n",
       "      <td>ANDRÉ STEIN</td>\n",
       "      <td>andre.stein@ifc.edu.br</td>\n",
       "      <td>ifc.edu.br</td>\n",
       "    </tr>\n",
       "    <tr>\n",
       "      <th>3</th>\n",
       "      <td>CRISTHIAN HECK</td>\n",
       "      <td>cristhian.heck@ifc.edu.br</td>\n",
       "      <td>ifc.edu.br</td>\n",
       "    </tr>\n",
       "  </tbody>\n",
       "</table>\n",
       "</div>"
      ],
      "text/plain": [
       "                         Nome                        Email Provedor de email\n",
       "0         DANIEL GOMES SOARES     daniel.soares@ifc.edu.br        ifc.edu.br\n",
       "1  JULIANO TONIZETTI BRIGNOLI  juliano.brignoli@ifc.edu.br        ifc.edu.br\n",
       "2                 ANDRÉ STEIN       andre.stein@ifc.edu.br        ifc.edu.br\n",
       "3              CRISTHIAN HECK    cristhian.heck@ifc.edu.br        ifc.edu.br"
      ]
     },
     "execution_count": 34,
     "metadata": {},
     "output_type": "execute_result"
    }
   ],
   "source": [
    "df2['Provedor de email'] = df2.Email.apply(\n",
    "    lambda x: x.split('@')[-1]\n",
    "    )\n",
    "df2"
   ]
  },
  {
   "cell_type": "markdown",
   "id": "89038eee",
   "metadata": {},
   "source": [
    "#### Renomenando colunas"
   ]
  },
  {
   "cell_type": "markdown",
   "id": "e0acf9e3",
   "metadata": {},
   "source": [
    "Quando obtemos nossos dados de outras fontes, geralmente queremos alterar os nomes das colunas."
   ]
  },
  {
   "cell_type": "code",
   "execution_count": 35,
   "id": "171700ab",
   "metadata": {},
   "outputs": [
    {
     "data": {
      "text/html": [
       "<div>\n",
       "<style scoped>\n",
       "    .dataframe tbody tr th:only-of-type {\n",
       "        vertical-align: middle;\n",
       "    }\n",
       "\n",
       "    .dataframe tbody tr th {\n",
       "        vertical-align: top;\n",
       "    }\n",
       "\n",
       "    .dataframe thead th {\n",
       "        text-align: right;\n",
       "    }\n",
       "</style>\n",
       "<table border=\"1\" class=\"dataframe\">\n",
       "  <thead>\n",
       "    <tr style=\"text-align: right;\">\n",
       "      <th></th>\n",
       "      <th>Primeiro_Nome</th>\n",
       "      <th>Idade</th>\n",
       "    </tr>\n",
       "  </thead>\n",
       "  <tbody>\n",
       "    <tr>\n",
       "      <th>0</th>\n",
       "      <td>João</td>\n",
       "      <td>23</td>\n",
       "    </tr>\n",
       "    <tr>\n",
       "      <th>1</th>\n",
       "      <td>Maria</td>\n",
       "      <td>29</td>\n",
       "    </tr>\n",
       "    <tr>\n",
       "      <th>2</th>\n",
       "      <td>Sofia</td>\n",
       "      <td>21</td>\n",
       "    </tr>\n",
       "    <tr>\n",
       "      <th>3</th>\n",
       "      <td>Fred</td>\n",
       "      <td>18</td>\n",
       "    </tr>\n",
       "  </tbody>\n",
       "</table>\n",
       "</div>"
      ],
      "text/plain": [
       "  Primeiro_Nome  Idade\n",
       "0          João     23\n",
       "1         Maria     29\n",
       "2         Sofia     21\n",
       "3          Fred     18"
      ]
     },
     "execution_count": 35,
     "metadata": {},
     "output_type": "execute_result"
    }
   ],
   "source": [
    "df = pd.DataFrame({\n",
    "    'nome': ['João', 'Maria', 'Sofia', 'Fred'],\n",
    "    'idade': [23, 29, 21, 18]\n",
    "})\n",
    "\n",
    "df.columns = ['Primeiro_Nome', 'Idade']\n",
    "\n",
    "df"
   ]
  },
  {
   "cell_type": "code",
   "execution_count": 36,
   "id": "fa819ca6",
   "metadata": {},
   "outputs": [
    {
     "data": {
      "text/html": [
       "<div>\n",
       "<style scoped>\n",
       "    .dataframe tbody tr th:only-of-type {\n",
       "        vertical-align: middle;\n",
       "    }\n",
       "\n",
       "    .dataframe tbody tr th {\n",
       "        vertical-align: top;\n",
       "    }\n",
       "\n",
       "    .dataframe thead th {\n",
       "        text-align: right;\n",
       "    }\n",
       "</style>\n",
       "<table border=\"1\" class=\"dataframe\">\n",
       "  <thead>\n",
       "    <tr style=\"text-align: right;\">\n",
       "      <th></th>\n",
       "      <th>id</th>\n",
       "      <th>nome</th>\n",
       "      <th>genero</th>\n",
       "      <th>ano</th>\n",
       "      <th>nota_imdb</th>\n",
       "    </tr>\n",
       "  </thead>\n",
       "  <tbody>\n",
       "    <tr>\n",
       "      <th>0</th>\n",
       "      <td>1</td>\n",
       "      <td>Avatar</td>\n",
       "      <td>action</td>\n",
       "      <td>2009.0</td>\n",
       "      <td>7.9</td>\n",
       "    </tr>\n",
       "    <tr>\n",
       "      <th>1</th>\n",
       "      <td>2</td>\n",
       "      <td>Jurassic World</td>\n",
       "      <td>action</td>\n",
       "      <td>2015.0</td>\n",
       "      <td>7.3</td>\n",
       "    </tr>\n",
       "    <tr>\n",
       "      <th>2</th>\n",
       "      <td>3</td>\n",
       "      <td>The Avengers</td>\n",
       "      <td>action</td>\n",
       "      <td>2012.0</td>\n",
       "      <td>8.1</td>\n",
       "    </tr>\n",
       "    <tr>\n",
       "      <th>3</th>\n",
       "      <td>4</td>\n",
       "      <td>The Dark Knight</td>\n",
       "      <td>action</td>\n",
       "      <td>2008.0</td>\n",
       "      <td>9.0</td>\n",
       "    </tr>\n",
       "    <tr>\n",
       "      <th>4</th>\n",
       "      <td>5</td>\n",
       "      <td>Star Wars: Episode I - The Phantom Menace</td>\n",
       "      <td>action</td>\n",
       "      <td>1999.0</td>\n",
       "      <td>6.6</td>\n",
       "    </tr>\n",
       "  </tbody>\n",
       "</table>\n",
       "</div>"
      ],
      "text/plain": [
       "  id                                       nome  genero     ano  nota_imdb\n",
       "0  1                                     Avatar  action  2009.0        7.9\n",
       "1  2                             Jurassic World  action  2015.0        7.3\n",
       "2  3                               The Avengers  action  2012.0        8.1\n",
       "3  4                            The Dark Knight  action  2008.0        9.0\n",
       "4  5  Star Wars: Episode I - The Phantom Menace  action  1999.0        6.6"
      ]
     },
     "execution_count": 36,
     "metadata": {},
     "output_type": "execute_result"
    }
   ],
   "source": [
    "# Renomeando uma coluna específica\n",
    "df = pd.read_csv('../files/Filmes.csv')\n",
    "df.head()\n"
   ]
  },
  {
   "cell_type": "code",
   "execution_count": 37,
   "id": "db5e446b",
   "metadata": {},
   "outputs": [],
   "source": [
    "df.rename(columns = {'nome': 'título_filme'}, inplace = True)"
   ]
  },
  {
   "cell_type": "code",
   "execution_count": 38,
   "id": "9eb158d6",
   "metadata": {},
   "outputs": [
    {
     "data": {
      "text/html": [
       "<div>\n",
       "<style scoped>\n",
       "    .dataframe tbody tr th:only-of-type {\n",
       "        vertical-align: middle;\n",
       "    }\n",
       "\n",
       "    .dataframe tbody tr th {\n",
       "        vertical-align: top;\n",
       "    }\n",
       "\n",
       "    .dataframe thead th {\n",
       "        text-align: right;\n",
       "    }\n",
       "</style>\n",
       "<table border=\"1\" class=\"dataframe\">\n",
       "  <thead>\n",
       "    <tr style=\"text-align: right;\">\n",
       "      <th></th>\n",
       "      <th>id</th>\n",
       "      <th>título_filme</th>\n",
       "      <th>genero</th>\n",
       "      <th>ano</th>\n",
       "      <th>nota_imdb</th>\n",
       "    </tr>\n",
       "  </thead>\n",
       "  <tbody>\n",
       "    <tr>\n",
       "      <th>0</th>\n",
       "      <td>1</td>\n",
       "      <td>Avatar</td>\n",
       "      <td>action</td>\n",
       "      <td>2009.0</td>\n",
       "      <td>7.9</td>\n",
       "    </tr>\n",
       "    <tr>\n",
       "      <th>1</th>\n",
       "      <td>2</td>\n",
       "      <td>Jurassic World</td>\n",
       "      <td>action</td>\n",
       "      <td>2015.0</td>\n",
       "      <td>7.3</td>\n",
       "    </tr>\n",
       "    <tr>\n",
       "      <th>2</th>\n",
       "      <td>3</td>\n",
       "      <td>The Avengers</td>\n",
       "      <td>action</td>\n",
       "      <td>2012.0</td>\n",
       "      <td>8.1</td>\n",
       "    </tr>\n",
       "    <tr>\n",
       "      <th>3</th>\n",
       "      <td>4</td>\n",
       "      <td>The Dark Knight</td>\n",
       "      <td>action</td>\n",
       "      <td>2008.0</td>\n",
       "      <td>9.0</td>\n",
       "    </tr>\n",
       "    <tr>\n",
       "      <th>4</th>\n",
       "      <td>5</td>\n",
       "      <td>Star Wars: Episode I - The Phantom Menace</td>\n",
       "      <td>action</td>\n",
       "      <td>1999.0</td>\n",
       "      <td>6.6</td>\n",
       "    </tr>\n",
       "  </tbody>\n",
       "</table>\n",
       "</div>"
      ],
      "text/plain": [
       "  id                               título_filme  genero     ano  nota_imdb\n",
       "0  1                                     Avatar  action  2009.0        7.9\n",
       "1  2                             Jurassic World  action  2015.0        7.3\n",
       "2  3                               The Avengers  action  2012.0        8.1\n",
       "3  4                            The Dark Knight  action  2008.0        9.0\n",
       "4  5  Star Wars: Episode I - The Phantom Menace  action  1999.0        6.6"
      ]
     },
     "execution_count": 38,
     "metadata": {},
     "output_type": "execute_result"
    }
   ],
   "source": [
    "df.head()"
   ]
  },
  {
   "cell_type": "markdown",
   "id": "0d9779aa",
   "metadata": {},
   "source": [
    "## AGREGADOS EM PANDAS"
   ]
  },
  {
   "cell_type": "markdown",
   "id": "57de2e25",
   "metadata": {},
   "source": [
    "Uma estatística agregada é uma maneira de criar um único número que descreve um grupo de números. "
   ]
  },
  {
   "cell_type": "markdown",
   "id": "f18ee360",
   "metadata": {},
   "source": [
    "As estatísticas agregadas comuns incluem média, mediana e desvio padrão."
   ]
  },
  {
   "cell_type": "code",
   "execution_count": 39,
   "id": "5a644db9",
   "metadata": {},
   "outputs": [
    {
     "name": "stdout",
     "output_type": "stream",
     "text": [
      "<class 'pandas.core.frame.DataFrame'>\n",
      "RangeIndex: 269718 entries, 0 to 269717\n",
      "Data columns (total 15 columns):\n",
      " #   Column       Non-Null Count   Dtype  \n",
      "---  ------       --------------   -----  \n",
      " 0   ano          269718 non-null  int64  \n",
      " 1   edicao       269718 non-null  object \n",
      " 2   cidade_sede  269718 non-null  object \n",
      " 3   pais         269348 non-null  object \n",
      " 4   delegacao    269718 non-null  object \n",
      " 5   equipe       269718 non-null  object \n",
      " 6   id_atleta    269718 non-null  int64  \n",
      " 7   nome_atleta  269718 non-null  object \n",
      " 8   sexo         269718 non-null  object \n",
      " 9   idade        260410 non-null  float64\n",
      " 10  altura       210917 non-null  float64\n",
      " 11  peso         208204 non-null  float64\n",
      " 12  esporte      269718 non-null  object \n",
      " 13  evento       269718 non-null  object \n",
      " 14  medalha      39772 non-null   object \n",
      "dtypes: float64(3), int64(2), object(10)\n",
      "memory usage: 30.9+ MB\n"
     ]
    }
   ],
   "source": [
    "df = pd.read_csv('../files/olimpíadas.csv')\n",
    "df.info()"
   ]
  },
  {
   "cell_type": "code",
   "execution_count": 40,
   "id": "d09fcffc",
   "metadata": {},
   "outputs": [
    {
     "data": {
      "text/html": [
       "<div>\n",
       "<style scoped>\n",
       "    .dataframe tbody tr th:only-of-type {\n",
       "        vertical-align: middle;\n",
       "    }\n",
       "\n",
       "    .dataframe tbody tr th {\n",
       "        vertical-align: top;\n",
       "    }\n",
       "\n",
       "    .dataframe thead th {\n",
       "        text-align: right;\n",
       "    }\n",
       "</style>\n",
       "<table border=\"1\" class=\"dataframe\">\n",
       "  <thead>\n",
       "    <tr style=\"text-align: right;\">\n",
       "      <th></th>\n",
       "      <th>ano</th>\n",
       "      <th>edicao</th>\n",
       "      <th>cidade_sede</th>\n",
       "      <th>pais</th>\n",
       "      <th>delegacao</th>\n",
       "      <th>equipe</th>\n",
       "      <th>id_atleta</th>\n",
       "      <th>nome_atleta</th>\n",
       "      <th>sexo</th>\n",
       "      <th>idade</th>\n",
       "      <th>altura</th>\n",
       "      <th>peso</th>\n",
       "      <th>esporte</th>\n",
       "      <th>evento</th>\n",
       "      <th>medalha</th>\n",
       "    </tr>\n",
       "  </thead>\n",
       "  <tbody>\n",
       "    <tr>\n",
       "      <th>0</th>\n",
       "      <td>1896</td>\n",
       "      <td>Summer</td>\n",
       "      <td>Athina</td>\n",
       "      <td>Australia</td>\n",
       "      <td>AUS</td>\n",
       "      <td>Australia</td>\n",
       "      <td>35698</td>\n",
       "      <td>Edwin Harold \"Teddy\" Flack</td>\n",
       "      <td>M</td>\n",
       "      <td>22.0</td>\n",
       "      <td>NaN</td>\n",
       "      <td>NaN</td>\n",
       "      <td>Athletics</td>\n",
       "      <td>Athletics Men's 1,500 metres</td>\n",
       "      <td>Gold</td>\n",
       "    </tr>\n",
       "    <tr>\n",
       "      <th>1</th>\n",
       "      <td>1896</td>\n",
       "      <td>Summer</td>\n",
       "      <td>Athina</td>\n",
       "      <td>Australia</td>\n",
       "      <td>AUS</td>\n",
       "      <td>Australia</td>\n",
       "      <td>35698</td>\n",
       "      <td>Edwin Harold \"Teddy\" Flack</td>\n",
       "      <td>M</td>\n",
       "      <td>22.0</td>\n",
       "      <td>NaN</td>\n",
       "      <td>NaN</td>\n",
       "      <td>Athletics</td>\n",
       "      <td>Athletics Men's 800 metres</td>\n",
       "      <td>Gold</td>\n",
       "    </tr>\n",
       "    <tr>\n",
       "      <th>2</th>\n",
       "      <td>1896</td>\n",
       "      <td>Summer</td>\n",
       "      <td>Athina</td>\n",
       "      <td>Australia</td>\n",
       "      <td>AUS</td>\n",
       "      <td>Australia</td>\n",
       "      <td>35698</td>\n",
       "      <td>Edwin Harold \"Teddy\" Flack</td>\n",
       "      <td>M</td>\n",
       "      <td>22.0</td>\n",
       "      <td>NaN</td>\n",
       "      <td>NaN</td>\n",
       "      <td>Athletics</td>\n",
       "      <td>Athletics Men's Marathon</td>\n",
       "      <td>NaN</td>\n",
       "    </tr>\n",
       "    <tr>\n",
       "      <th>3</th>\n",
       "      <td>1896</td>\n",
       "      <td>Summer</td>\n",
       "      <td>Athina</td>\n",
       "      <td>Australia</td>\n",
       "      <td>AUS</td>\n",
       "      <td>Australia/Great Britain</td>\n",
       "      <td>35698</td>\n",
       "      <td>Edwin Harold \"Teddy\" Flack</td>\n",
       "      <td>M</td>\n",
       "      <td>22.0</td>\n",
       "      <td>NaN</td>\n",
       "      <td>NaN</td>\n",
       "      <td>Tennis</td>\n",
       "      <td>Tennis Men's Doubles</td>\n",
       "      <td>Bronze</td>\n",
       "    </tr>\n",
       "    <tr>\n",
       "      <th>4</th>\n",
       "      <td>1896</td>\n",
       "      <td>Summer</td>\n",
       "      <td>Athina</td>\n",
       "      <td>Australia</td>\n",
       "      <td>AUS</td>\n",
       "      <td>Australia</td>\n",
       "      <td>35698</td>\n",
       "      <td>Edwin Harold \"Teddy\" Flack</td>\n",
       "      <td>M</td>\n",
       "      <td>22.0</td>\n",
       "      <td>NaN</td>\n",
       "      <td>NaN</td>\n",
       "      <td>Tennis</td>\n",
       "      <td>Tennis Men's Singles</td>\n",
       "      <td>NaN</td>\n",
       "    </tr>\n",
       "  </tbody>\n",
       "</table>\n",
       "</div>"
      ],
      "text/plain": [
       "    ano  edicao cidade_sede       pais delegacao                   equipe  \\\n",
       "0  1896  Summer      Athina  Australia       AUS                Australia   \n",
       "1  1896  Summer      Athina  Australia       AUS                Australia   \n",
       "2  1896  Summer      Athina  Australia       AUS                Australia   \n",
       "3  1896  Summer      Athina  Australia       AUS  Australia/Great Britain   \n",
       "4  1896  Summer      Athina  Australia       AUS                Australia   \n",
       "\n",
       "   id_atleta                 nome_atleta sexo  idade  altura  peso    esporte  \\\n",
       "0      35698  Edwin Harold \"Teddy\" Flack    M   22.0     NaN   NaN  Athletics   \n",
       "1      35698  Edwin Harold \"Teddy\" Flack    M   22.0     NaN   NaN  Athletics   \n",
       "2      35698  Edwin Harold \"Teddy\" Flack    M   22.0     NaN   NaN  Athletics   \n",
       "3      35698  Edwin Harold \"Teddy\" Flack    M   22.0     NaN   NaN     Tennis   \n",
       "4      35698  Edwin Harold \"Teddy\" Flack    M   22.0     NaN   NaN     Tennis   \n",
       "\n",
       "                         evento medalha  \n",
       "0  Athletics Men's 1,500 metres    Gold  \n",
       "1    Athletics Men's 800 metres    Gold  \n",
       "2      Athletics Men's Marathon     NaN  \n",
       "3          Tennis Men's Doubles  Bronze  \n",
       "4          Tennis Men's Singles     NaN  "
      ]
     },
     "execution_count": 40,
     "metadata": {},
     "output_type": "execute_result"
    }
   ],
   "source": [
    "df.head(5)"
   ]
  },
  {
   "cell_type": "markdown",
   "id": "5a5065e9",
   "metadata": {},
   "source": [
    "### Calculando Estatísticas de Coluna"
   ]
  },
  {
   "cell_type": "code",
   "execution_count": 41,
   "id": "60578768",
   "metadata": {},
   "outputs": [
    {
     "data": {
      "text/plain": [
       "24.0"
      ]
     },
     "execution_count": 41,
     "metadata": {},
     "output_type": "execute_result"
    }
   ],
   "source": [
    "# mediana da coluna idade\n",
    "df.idade.median()"
   ]
  },
  {
   "cell_type": "code",
   "execution_count": 42,
   "id": "6e660ed7",
   "metadata": {},
   "outputs": [
    {
     "data": {
      "text/plain": [
       "42"
      ]
     },
     "execution_count": 42,
     "metadata": {},
     "output_type": "execute_result"
    }
   ],
   "source": [
    "# Número de valores únicos na coluna\n",
    "df.cidade_sede.nunique()"
   ]
  },
  {
   "cell_type": "code",
   "execution_count": 43,
   "id": "78e951e9",
   "metadata": {},
   "outputs": [
    {
     "data": {
      "text/plain": [
       "array(['Gold', nan, 'Bronze', 'Silver'], dtype=object)"
      ]
     },
     "execution_count": 43,
     "metadata": {},
     "output_type": "execute_result"
    }
   ],
   "source": [
    "# Lista de valores exclusivos na coluna\n",
    "df.medalha.unique()"
   ]
  },
  {
   "cell_type": "code",
   "execution_count": 44,
   "id": "b2635257",
   "metadata": {},
   "outputs": [
    {
     "data": {
      "text/plain": [
       "array(['Gold', 'Bronze', 'Silver'], dtype=object)"
      ]
     },
     "execution_count": 44,
     "metadata": {},
     "output_type": "execute_result"
    }
   ],
   "source": [
    "# retirando valores nulos\n",
    "df.medalha.dropna().unique()"
   ]
  },
  {
   "cell_type": "markdown",
   "id": "a4dc2972",
   "metadata": {},
   "source": [
    "#### Alguns comandos mais comuns"
   ]
  },
  {
   "attachments": {
    "image.png": {
     "image/png": "[encoded data removed]"
    }
   },
   "cell_type": "markdown",
   "id": "970ee3c3",
   "metadata": {},
   "source": [
    "![image.png](attachment:image.png)"
   ]
  },
  {
   "cell_type": "markdown",
   "id": "ebd2f664",
   "metadata": {},
   "source": [
    "### Calculando Funções Agregadas"
   ]
  },
  {
   "cell_type": "markdown",
   "id": "245d5c21",
   "metadata": {},
   "source": [
    "Quando temos muitos dados, geralmente queremos calcular estatísticas agregadas (média, desvio padrão, mediana, percentis etc.) \n",
    "sobre determinados subconjuntos de dados."
   ]
  },
  {
   "cell_type": "code",
   "execution_count": 45,
   "id": "b650e07f",
   "metadata": {},
   "outputs": [
    {
     "data": {
      "text/plain": [
       "pais\n",
       "Afghanistan          2\n",
       "Albania              0\n",
       "Algeria             17\n",
       "American Samoa       0\n",
       "Andorra              0\n",
       "Angola               0\n",
       "Antigua              0\n",
       "Argentina          274\n",
       "Armenia             16\n",
       "Aruba                0\n",
       "Australia         1349\n",
       "Austria            450\n",
       "Azerbaijan          44\n",
       "Bahamas             40\n",
       "Bahrain              3\n",
       "Bangladesh           0\n",
       "Barbados             1\n",
       "Belarus            139\n",
       "Belgium            468\n",
       "Belize               0\n",
       "Name: medalha, dtype: int64"
      ]
     },
     "execution_count": 45,
     "metadata": {},
     "output_type": "execute_result"
    }
   ],
   "source": [
    "medalhas_por_pais = df.groupby('pais').medalha.count()\n",
    "medalhas_por_pais[:20]"
   ]
  },
  {
   "cell_type": "code",
   "execution_count": null,
   "id": "257cd3c8",
   "metadata": {},
   "outputs": [],
   "source": [
    "# Em geral, usamos a seguinte sintaxe para calcular agregados:\n",
    "# df.groupby('coluna1').coluna2.medição()"
   ]
  },
  {
   "cell_type": "markdown",
   "id": "45f60d83",
   "metadata": {},
   "source": [
    "**coluna 1** é a coluna pela qual queremos agrupar ('pais' no no exemplo)"
   ]
  },
  {
   "cell_type": "markdown",
   "id": "187b6ced",
   "metadata": {},
   "source": [
    "**coluna 2** é a coluna na qual queremos realizar uma medição (medalha no exemplo)"
   ]
  },
  {
   "cell_type": "markdown",
   "id": "b22a4363",
   "metadata": {},
   "source": [
    "**medição** é a função de medição que queremos aplicar (count no exemplo)"
   ]
  },
  {
   "cell_type": "code",
   "execution_count": 46,
   "id": "d8cdbeca",
   "metadata": {},
   "outputs": [
    {
     "data": {
      "text/plain": [
       "pais\n",
       "Afghanistan         2\n",
       "Albania             0\n",
       "Algeria             5\n",
       "American Samoa      0\n",
       "Andorra             0\n",
       "Angola              0\n",
       "Antigua             0\n",
       "Argentina          92\n",
       "Armenia            13\n",
       "Aruba               0\n",
       "Australia         351\n",
       "Austria            58\n",
       "Azerbaijan         35\n",
       "Bahamas            17\n",
       "Bahrain             3\n",
       "Bangladesh          0\n",
       "Barbados            0\n",
       "Belarus            73\n",
       "Belgium            29\n",
       "Belize              0\n",
       "Name: medalha, dtype: int64"
      ]
     },
     "execution_count": 46,
     "metadata": {},
     "output_type": "execute_result"
    }
   ],
   "source": [
    "medalhas_por_pais2 = df[(df.ano >= 2008)].groupby('pais').medalha.count()\n",
    "medalhas_por_pais2[:20]"
   ]
  },
  {
   "cell_type": "code",
   "execution_count": 47,
   "id": "104f3362",
   "metadata": {},
   "outputs": [],
   "source": [
    "# agrupar por mais de uma coluna.\n",
    "df2 = df.groupby(['pais','sexo']).medalha.count().reset_index()"
   ]
  },
  {
   "cell_type": "code",
   "execution_count": 48,
   "id": "40c74af2",
   "metadata": {},
   "outputs": [
    {
     "data": {
      "text/html": [
       "<div>\n",
       "<style scoped>\n",
       "    .dataframe tbody tr th:only-of-type {\n",
       "        vertical-align: middle;\n",
       "    }\n",
       "\n",
       "    .dataframe tbody tr th {\n",
       "        vertical-align: top;\n",
       "    }\n",
       "\n",
       "    .dataframe thead th {\n",
       "        text-align: right;\n",
       "    }\n",
       "</style>\n",
       "<table border=\"1\" class=\"dataframe\">\n",
       "  <thead>\n",
       "    <tr style=\"text-align: right;\">\n",
       "      <th></th>\n",
       "      <th>pais</th>\n",
       "      <th>sexo</th>\n",
       "      <th>medalha</th>\n",
       "    </tr>\n",
       "  </thead>\n",
       "  <tbody>\n",
       "    <tr>\n",
       "      <th>0</th>\n",
       "      <td>Afghanistan</td>\n",
       "      <td>F</td>\n",
       "      <td>0</td>\n",
       "    </tr>\n",
       "    <tr>\n",
       "      <th>1</th>\n",
       "      <td>Afghanistan</td>\n",
       "      <td>M</td>\n",
       "      <td>2</td>\n",
       "    </tr>\n",
       "    <tr>\n",
       "      <th>2</th>\n",
       "      <td>Albania</td>\n",
       "      <td>F</td>\n",
       "      <td>0</td>\n",
       "    </tr>\n",
       "    <tr>\n",
       "      <th>3</th>\n",
       "      <td>Albania</td>\n",
       "      <td>M</td>\n",
       "      <td>0</td>\n",
       "    </tr>\n",
       "    <tr>\n",
       "      <th>4</th>\n",
       "      <td>Algeria</td>\n",
       "      <td>F</td>\n",
       "      <td>3</td>\n",
       "    </tr>\n",
       "    <tr>\n",
       "      <th>5</th>\n",
       "      <td>Algeria</td>\n",
       "      <td>M</td>\n",
       "      <td>14</td>\n",
       "    </tr>\n",
       "    <tr>\n",
       "      <th>6</th>\n",
       "      <td>American Samoa</td>\n",
       "      <td>F</td>\n",
       "      <td>0</td>\n",
       "    </tr>\n",
       "    <tr>\n",
       "      <th>7</th>\n",
       "      <td>American Samoa</td>\n",
       "      <td>M</td>\n",
       "      <td>0</td>\n",
       "    </tr>\n",
       "    <tr>\n",
       "      <th>8</th>\n",
       "      <td>Andorra</td>\n",
       "      <td>F</td>\n",
       "      <td>0</td>\n",
       "    </tr>\n",
       "    <tr>\n",
       "      <th>9</th>\n",
       "      <td>Andorra</td>\n",
       "      <td>M</td>\n",
       "      <td>0</td>\n",
       "    </tr>\n",
       "    <tr>\n",
       "      <th>10</th>\n",
       "      <td>Angola</td>\n",
       "      <td>F</td>\n",
       "      <td>0</td>\n",
       "    </tr>\n",
       "    <tr>\n",
       "      <th>11</th>\n",
       "      <td>Angola</td>\n",
       "      <td>M</td>\n",
       "      <td>0</td>\n",
       "    </tr>\n",
       "    <tr>\n",
       "      <th>12</th>\n",
       "      <td>Antigua</td>\n",
       "      <td>F</td>\n",
       "      <td>0</td>\n",
       "    </tr>\n",
       "    <tr>\n",
       "      <th>13</th>\n",
       "      <td>Antigua</td>\n",
       "      <td>M</td>\n",
       "      <td>0</td>\n",
       "    </tr>\n",
       "    <tr>\n",
       "      <th>14</th>\n",
       "      <td>Argentina</td>\n",
       "      <td>F</td>\n",
       "      <td>73</td>\n",
       "    </tr>\n",
       "    <tr>\n",
       "      <th>15</th>\n",
       "      <td>Argentina</td>\n",
       "      <td>M</td>\n",
       "      <td>201</td>\n",
       "    </tr>\n",
       "    <tr>\n",
       "      <th>16</th>\n",
       "      <td>Armenia</td>\n",
       "      <td>F</td>\n",
       "      <td>1</td>\n",
       "    </tr>\n",
       "    <tr>\n",
       "      <th>17</th>\n",
       "      <td>Armenia</td>\n",
       "      <td>M</td>\n",
       "      <td>15</td>\n",
       "    </tr>\n",
       "    <tr>\n",
       "      <th>18</th>\n",
       "      <td>Aruba</td>\n",
       "      <td>F</td>\n",
       "      <td>0</td>\n",
       "    </tr>\n",
       "    <tr>\n",
       "      <th>19</th>\n",
       "      <td>Aruba</td>\n",
       "      <td>M</td>\n",
       "      <td>0</td>\n",
       "    </tr>\n",
       "  </tbody>\n",
       "</table>\n",
       "</div>"
      ],
      "text/plain": [
       "              pais sexo  medalha\n",
       "0      Afghanistan    F        0\n",
       "1      Afghanistan    M        2\n",
       "2          Albania    F        0\n",
       "3          Albania    M        0\n",
       "4          Algeria    F        3\n",
       "5          Algeria    M       14\n",
       "6   American Samoa    F        0\n",
       "7   American Samoa    M        0\n",
       "8          Andorra    F        0\n",
       "9          Andorra    M        0\n",
       "10          Angola    F        0\n",
       "11          Angola    M        0\n",
       "12         Antigua    F        0\n",
       "13         Antigua    M        0\n",
       "14       Argentina    F       73\n",
       "15       Argentina    M      201\n",
       "16         Armenia    F        1\n",
       "17         Armenia    M       15\n",
       "18           Aruba    F        0\n",
       "19           Aruba    M        0"
      ]
     },
     "execution_count": 48,
     "metadata": {},
     "output_type": "execute_result"
    }
   ],
   "source": [
    "df2.iloc[:20]"
   ]
  },
  {
   "cell_type": "code",
   "execution_count": 49,
   "id": "81367502",
   "metadata": {},
   "outputs": [
    {
     "data": {
      "text/html": [
       "<div>\n",
       "<style scoped>\n",
       "    .dataframe tbody tr th:only-of-type {\n",
       "        vertical-align: middle;\n",
       "    }\n",
       "\n",
       "    .dataframe tbody tr th {\n",
       "        vertical-align: top;\n",
       "    }\n",
       "\n",
       "    .dataframe thead th {\n",
       "        text-align: right;\n",
       "    }\n",
       "</style>\n",
       "<table border=\"1\" class=\"dataframe\">\n",
       "  <thead>\n",
       "    <tr style=\"text-align: right;\">\n",
       "      <th>sexo</th>\n",
       "      <th>F</th>\n",
       "      <th>M</th>\n",
       "    </tr>\n",
       "    <tr>\n",
       "      <th>pais</th>\n",
       "      <th></th>\n",
       "      <th></th>\n",
       "    </tr>\n",
       "  </thead>\n",
       "  <tbody>\n",
       "    <tr>\n",
       "      <th>Afghanistan</th>\n",
       "      <td>0</td>\n",
       "      <td>2</td>\n",
       "    </tr>\n",
       "    <tr>\n",
       "      <th>Albania</th>\n",
       "      <td>0</td>\n",
       "      <td>0</td>\n",
       "    </tr>\n",
       "    <tr>\n",
       "      <th>Algeria</th>\n",
       "      <td>3</td>\n",
       "      <td>14</td>\n",
       "    </tr>\n",
       "    <tr>\n",
       "      <th>American Samoa</th>\n",
       "      <td>0</td>\n",
       "      <td>0</td>\n",
       "    </tr>\n",
       "    <tr>\n",
       "      <th>Andorra</th>\n",
       "      <td>0</td>\n",
       "      <td>0</td>\n",
       "    </tr>\n",
       "    <tr>\n",
       "      <th>...</th>\n",
       "      <td>...</td>\n",
       "      <td>...</td>\n",
       "    </tr>\n",
       "    <tr>\n",
       "      <th>Virgin Islands, British</th>\n",
       "      <td>0</td>\n",
       "      <td>0</td>\n",
       "    </tr>\n",
       "    <tr>\n",
       "      <th>Virgin Islands, US</th>\n",
       "      <td>0</td>\n",
       "      <td>1</td>\n",
       "    </tr>\n",
       "    <tr>\n",
       "      <th>Yemen</th>\n",
       "      <td>0</td>\n",
       "      <td>0</td>\n",
       "    </tr>\n",
       "    <tr>\n",
       "      <th>Zambia</th>\n",
       "      <td>0</td>\n",
       "      <td>2</td>\n",
       "    </tr>\n",
       "    <tr>\n",
       "      <th>Zimbabwe</th>\n",
       "      <td>22</td>\n",
       "      <td>0</td>\n",
       "    </tr>\n",
       "  </tbody>\n",
       "</table>\n",
       "<p>205 rows × 2 columns</p>\n",
       "</div>"
      ],
      "text/plain": [
       "sexo                      F   M\n",
       "pais                           \n",
       "Afghanistan               0   2\n",
       "Albania                   0   0\n",
       "Algeria                   3  14\n",
       "American Samoa            0   0\n",
       "Andorra                   0   0\n",
       "...                      ..  ..\n",
       "Virgin Islands, British   0   0\n",
       "Virgin Islands, US        0   1\n",
       "Yemen                     0   0\n",
       "Zambia                    0   2\n",
       "Zimbabwe                 22   0\n",
       "\n",
       "[205 rows x 2 columns]"
      ]
     },
     "execution_count": 49,
     "metadata": {},
     "output_type": "execute_result"
    }
   ],
   "source": [
    "#Melhorando a apresentação dos dados = tabela dinâmica\n",
    "df2.pivot(\n",
    "    columns='sexo',\n",
    "    index='pais',\n",
    "    values='medalha')"
   ]
  },
  {
   "cell_type": "code",
   "execution_count": null,
   "id": "fa7cb595",
   "metadata": {},
   "outputs": [],
   "source": [
    "# df.pivot(columns='Coluna para pivotar',\n",
    "#         index='Coluna que será linha ',\n",
    "#         values='Coluna que será os valores')\n",
    "        "
   ]
  },
  {
   "cell_type": "markdown",
   "id": "5966de11",
   "metadata": {},
   "source": [
    "Documentação pandas.DataFrame.groupby\n",
    "https://pandas.pydata.org/pandas-docs/stable/reference/api/pandas.DataFrame.groupby.html#pandas.DataFrame.groupby"
   ]
  },
  {
   "cell_type": "markdown",
   "id": "9b587a88",
   "metadata": {},
   "source": [
    "# Fim"
   ]
  }
 ],
 "metadata": {
  "kernelspec": {
   "display_name": "Python 3 (ipykernel)",
   "language": "python",
   "name": "python3"
  },
  "language_info": {
   "codemirror_mode": {
    "name": "ipython",
    "version": 3
   },
   "file_extension": ".py",
   "mimetype": "text/x-python",
   "name": "python",
   "nbconvert_exporter": "python",
   "pygments_lexer": "ipython3",
   "version": "3.11.7"
  }
 },
 "nbformat": 4,
 "nbformat_minor": 5
}
